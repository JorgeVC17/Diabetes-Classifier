{
 "cells": [
  {
   "cell_type": "markdown",
   "metadata": {},
   "source": [
    "# Medipredict"
   ]
  },
  {
   "cell_type": "markdown",
   "metadata": {},
   "source": [
    "Eerst importeren de we de libraries dat we nodig hebben."
   ]
  },
  {
   "cell_type": "code",
   "execution_count": 1,
   "metadata": {},
   "outputs": [],
   "source": [
    "#Import libraries\n",
    "import pandas as pd\n",
    "import numpy as np\n",
    "import plotly.express as px\n",
    "import seaborn as sns\n",
    "import matplotlib.pyplot as plt\n",
    "import io"
   ]
  },
  {
   "cell_type": "markdown",
   "metadata": {},
   "source": [
    "## Dataset verkennen"
   ]
  },
  {
   "cell_type": "markdown",
   "metadata": {},
   "source": [
    "We laden eerst onze dataset."
   ]
  },
  {
   "cell_type": "code",
   "execution_count": 2,
   "metadata": {},
   "outputs": [
    {
     "data": {
      "text/html": [
       "<div>\n",
       "<style scoped>\n",
       "    .dataframe tbody tr th:only-of-type {\n",
       "        vertical-align: middle;\n",
       "    }\n",
       "\n",
       "    .dataframe tbody tr th {\n",
       "        vertical-align: top;\n",
       "    }\n",
       "\n",
       "    .dataframe thead th {\n",
       "        text-align: right;\n",
       "    }\n",
       "</style>\n",
       "<table border=\"1\" class=\"dataframe\">\n",
       "  <thead>\n",
       "    <tr style=\"text-align: right;\">\n",
       "      <th></th>\n",
       "      <th>Diabetes_012</th>\n",
       "      <th>HighBP</th>\n",
       "      <th>HighChol</th>\n",
       "      <th>CholCheck</th>\n",
       "      <th>BMI</th>\n",
       "      <th>Smoker</th>\n",
       "      <th>Stroke</th>\n",
       "      <th>HeartDiseaseorAttack</th>\n",
       "      <th>PhysActivity</th>\n",
       "      <th>Fruits</th>\n",
       "      <th>...</th>\n",
       "      <th>AnyHealthcare</th>\n",
       "      <th>NoDocbcCost</th>\n",
       "      <th>GenHlth</th>\n",
       "      <th>MentHlth</th>\n",
       "      <th>PhysHlth</th>\n",
       "      <th>DiffWalk</th>\n",
       "      <th>Sex</th>\n",
       "      <th>Age</th>\n",
       "      <th>Education</th>\n",
       "      <th>Income</th>\n",
       "    </tr>\n",
       "  </thead>\n",
       "  <tbody>\n",
       "    <tr>\n",
       "      <th>0</th>\n",
       "      <td>0.0</td>\n",
       "      <td>0</td>\n",
       "      <td>1.0</td>\n",
       "      <td>1</td>\n",
       "      <td>15.0</td>\n",
       "      <td>1.0</td>\n",
       "      <td>0.0</td>\n",
       "      <td>0.0</td>\n",
       "      <td>0</td>\n",
       "      <td>1</td>\n",
       "      <td>...</td>\n",
       "      <td>1</td>\n",
       "      <td>0.0</td>\n",
       "      <td>5.0</td>\n",
       "      <td>10.0</td>\n",
       "      <td>20.0</td>\n",
       "      <td>0.0</td>\n",
       "      <td>0</td>\n",
       "      <td>11</td>\n",
       "      <td>4.0</td>\n",
       "      <td>5.0</td>\n",
       "    </tr>\n",
       "    <tr>\n",
       "      <th>1</th>\n",
       "      <td>2.0</td>\n",
       "      <td>1</td>\n",
       "      <td>0.0</td>\n",
       "      <td>1</td>\n",
       "      <td>28.0</td>\n",
       "      <td>0.0</td>\n",
       "      <td>0.0</td>\n",
       "      <td>1.0</td>\n",
       "      <td>0</td>\n",
       "      <td>1</td>\n",
       "      <td>...</td>\n",
       "      <td>1</td>\n",
       "      <td>0.0</td>\n",
       "      <td>2.0</td>\n",
       "      <td>0.0</td>\n",
       "      <td>0.0</td>\n",
       "      <td>0.0</td>\n",
       "      <td>0</td>\n",
       "      <td>11</td>\n",
       "      <td>4.0</td>\n",
       "      <td>3.0</td>\n",
       "    </tr>\n",
       "    <tr>\n",
       "      <th>2</th>\n",
       "      <td>2.0</td>\n",
       "      <td>1</td>\n",
       "      <td>1.0</td>\n",
       "      <td>1</td>\n",
       "      <td>33.0</td>\n",
       "      <td>0.0</td>\n",
       "      <td>0.0</td>\n",
       "      <td>0.0</td>\n",
       "      <td>1</td>\n",
       "      <td>1</td>\n",
       "      <td>...</td>\n",
       "      <td>1</td>\n",
       "      <td>0.0</td>\n",
       "      <td>2.0</td>\n",
       "      <td>10.0</td>\n",
       "      <td>0.0</td>\n",
       "      <td>0.0</td>\n",
       "      <td>0</td>\n",
       "      <td>9</td>\n",
       "      <td>4.0</td>\n",
       "      <td>7.0</td>\n",
       "    </tr>\n",
       "    <tr>\n",
       "      <th>3</th>\n",
       "      <td>2.0</td>\n",
       "      <td>0</td>\n",
       "      <td>1.0</td>\n",
       "      <td>1</td>\n",
       "      <td>29.0</td>\n",
       "      <td>0.0</td>\n",
       "      <td>1.0</td>\n",
       "      <td>1.0</td>\n",
       "      <td>1</td>\n",
       "      <td>1</td>\n",
       "      <td>...</td>\n",
       "      <td>1</td>\n",
       "      <td>0.0</td>\n",
       "      <td>5.0</td>\n",
       "      <td>0.0</td>\n",
       "      <td>30.0</td>\n",
       "      <td>1.0</td>\n",
       "      <td>1</td>\n",
       "      <td>12</td>\n",
       "      <td>3.0</td>\n",
       "      <td>4.0</td>\n",
       "    </tr>\n",
       "    <tr>\n",
       "      <th>4</th>\n",
       "      <td>0.0</td>\n",
       "      <td>0</td>\n",
       "      <td>0.0</td>\n",
       "      <td>1</td>\n",
       "      <td>24.0</td>\n",
       "      <td>1.0</td>\n",
       "      <td>0.0</td>\n",
       "      <td>0.0</td>\n",
       "      <td>0</td>\n",
       "      <td>0</td>\n",
       "      <td>...</td>\n",
       "      <td>1</td>\n",
       "      <td>0.0</td>\n",
       "      <td>3.0</td>\n",
       "      <td>0.0</td>\n",
       "      <td>0.0</td>\n",
       "      <td>1.0</td>\n",
       "      <td>1</td>\n",
       "      <td>13</td>\n",
       "      <td>5.0</td>\n",
       "      <td>6.0</td>\n",
       "    </tr>\n",
       "  </tbody>\n",
       "</table>\n",
       "<p>5 rows × 22 columns</p>\n",
       "</div>"
      ],
      "text/plain": [
       "   Diabetes_012  HighBP  HighChol  CholCheck   BMI  Smoker  Stroke  \\\n",
       "0           0.0       0       1.0          1  15.0     1.0     0.0   \n",
       "1           2.0       1       0.0          1  28.0     0.0     0.0   \n",
       "2           2.0       1       1.0          1  33.0     0.0     0.0   \n",
       "3           2.0       0       1.0          1  29.0     0.0     1.0   \n",
       "4           0.0       0       0.0          1  24.0     1.0     0.0   \n",
       "\n",
       "   HeartDiseaseorAttack  PhysActivity  Fruits  ...  AnyHealthcare  \\\n",
       "0                   0.0             0       1  ...              1   \n",
       "1                   1.0             0       1  ...              1   \n",
       "2                   0.0             1       1  ...              1   \n",
       "3                   1.0             1       1  ...              1   \n",
       "4                   0.0             0       0  ...              1   \n",
       "\n",
       "   NoDocbcCost  GenHlth  MentHlth  PhysHlth  DiffWalk  Sex  Age  Education  \\\n",
       "0          0.0      5.0      10.0      20.0       0.0    0   11        4.0   \n",
       "1          0.0      2.0       0.0       0.0       0.0    0   11        4.0   \n",
       "2          0.0      2.0      10.0       0.0       0.0    0    9        4.0   \n",
       "3          0.0      5.0       0.0      30.0       1.0    1   12        3.0   \n",
       "4          0.0      3.0       0.0       0.0       1.0    1   13        5.0   \n",
       "\n",
       "   Income  \n",
       "0     5.0  \n",
       "1     3.0  \n",
       "2     7.0  \n",
       "3     4.0  \n",
       "4     6.0  \n",
       "\n",
       "[5 rows x 22 columns]"
      ]
     },
     "execution_count": 2,
     "metadata": {},
     "output_type": "execute_result"
    }
   ],
   "source": [
    "df= pd.read_csv(\"C:/Users/jorge/Documents/Anaconda files/Code/Classificatie/diabetes_grootdataset.csv\")\n",
    "df.head()"
   ]
  },
  {
   "cell_type": "markdown",
   "metadata": {},
   "source": [
    "Onze dataset bestaat uit de volgende metadata:\n",
    "\n",
    "- Diabetes_012: Drie categorieën die de diabetesstatus aanduiden: 0 voor geen diabetes, 1 voor pre-diabetes, en 2 voor diabetes.\n",
    "\n",
    "- HighBP: Geeft aan of de patiënt hoge bloeddruk heeft (1) of niet (0).\n",
    "\n",
    "- HighChol: Geeft aan of de patiënt een hoog cholesterolgehalte heeft (1) of niet (0).\n",
    "\n",
    "- CholCheck: Geeft aan of de patiënt in de afgelopen 5 jaar een cholesterolcontrole heeft gehad (1) of niet (0).\n",
    "\n",
    "- BMI: Body Mass Index, een maatstaf voor het lichaamsgewicht in relatie tot de lengte.\n",
    "\n",
    "- Smoker: Geeft aan of de persoon meer dan 100 sigaretten in zijn leven heeft gerookt (1) of niet (0).\n",
    "\n",
    "- Stroke: Geeft aan of de persoon ooit een hartaanval heeft gehad (1) of niet (0).\n",
    "\n",
    "- HeartDiseaseorAttack: Geeft aan of de persoon coronaire hartziekte of een myocardinfarct heeft gehad (1) of niet (0).\n",
    "\n",
    "- PhysActivity: Geeft aan of de persoon in de afgelopen 30 dagen heeft gesport (1) of niet (0).\n",
    "\n",
    "- Fruits: Geeft aan of de persoon meer dan één stuk fruit per dag eet (1) of niet (0).\n",
    "\n",
    "- Veggies: Geeft aan of de persoon meer dan één stuk groente per dag eet (1) of niet (0).\n",
    "\n",
    "- HeavyAlcoholConsumption: Geeft aan of de persoon meer dan een bepaalde hoeveelheid alcohol per week consumeert, afhankelijk van het geslacht.\n",
    "\n",
    "- AnyHealthcare: Geeft aan of de persoon een zorgverzekering heeft (1) of niet (0).\n",
    "\n",
    "- NoDocbcCost: Geeft aan of de persoon in het afgelopen jaar naar de dokter moest gaan maar dit heeft vermeden vanwege de kosten (1) of niet (0).\n",
    "\n",
    "- GenHlth: Laat de persoon zijn/haar algemene gezondheid beoordelen op een schaal van 1 tot 5.\n",
    "\n",
    "- MentHlth: Geeft aan of de persoon problemen heeft met de mentale gezondheid en zo ja, hoeveel dagen in de afgelopen 30 dagen.\n",
    "\n",
    "- PhysHlth: Geeft aan of de persoon problemen heeft met de fysieke gezondheid en zo ja, hoeveel dagen in de afgelopen 30 dagen.\n",
    "\n",
    "- DiffWalk: Geeft aan of de persoon moeite heeft met lopen/traplopen (1) of niet (0).\n",
    "\n",
    "- Sex: Geslacht van de persoon, waar 0 staat voor vrouw en 1 voor man.\n",
    "\n",
    "- Age: Leeftijd van de persoon.\n",
    "\n",
    "- Education: Opleidingsniveau, op een schaal van 1 tot 6.\n",
    "\n",
    "- Income: Inkomen, op basis van verschillende inkomensniveaus.\n",
    "\n",
    "\n",
    "\n",
    "\n",
    "\n",
    "\n"
   ]
  },
  {
   "cell_type": "markdown",
   "metadata": {},
   "source": [
    "Nadat we onze dataset hebben opgeladen, kunnen we df.info() gebruiken om de datatypes en aantal non-null values van onze dataset te zien. "
   ]
  },
  {
   "cell_type": "code",
   "execution_count": 3,
   "metadata": {},
   "outputs": [
    {
     "name": "stdout",
     "output_type": "stream",
     "text": [
      "<class 'pandas.core.frame.DataFrame'>\n",
      "RangeIndex: 236378 entries, 0 to 236377\n",
      "Data columns (total 22 columns):\n",
      " #   Column                Non-Null Count   Dtype  \n",
      "---  ------                --------------   -----  \n",
      " 0   Diabetes_012          236378 non-null  float64\n",
      " 1   HighBP                236378 non-null  int64  \n",
      " 2   HighChol              236378 non-null  float64\n",
      " 3   CholCheck             236378 non-null  int64  \n",
      " 4   BMI                   236378 non-null  float64\n",
      " 5   Smoker                236378 non-null  float64\n",
      " 6   Stroke                236378 non-null  float64\n",
      " 7   HeartDiseaseorAttack  236378 non-null  float64\n",
      " 8   PhysActivity          236378 non-null  int64  \n",
      " 9   Fruits                236378 non-null  int64  \n",
      " 10  Veggies               236378 non-null  int64  \n",
      " 11  HvyAlcoholConsump     236378 non-null  int64  \n",
      " 12  AnyHealthcare         236378 non-null  int64  \n",
      " 13  NoDocbcCost           236378 non-null  float64\n",
      " 14  GenHlth               236378 non-null  float64\n",
      " 15  MentHlth              236378 non-null  float64\n",
      " 16  PhysHlth              236378 non-null  float64\n",
      " 17  DiffWalk              236378 non-null  float64\n",
      " 18  Sex                   236378 non-null  int64  \n",
      " 19  Age                   236378 non-null  int64  \n",
      " 20  Education             236378 non-null  float64\n",
      " 21  Income                236378 non-null  float64\n",
      "dtypes: float64(13), int64(9)\n",
      "memory usage: 39.7 MB\n"
     ]
    }
   ],
   "source": [
    "df.info()"
   ]
  },
  {
   "cell_type": "markdown",
   "metadata": {},
   "source": [
    "Nadat we onze dataset hebben geladen en bekeken, zien we dat deze compleet is, Want het aantal non-null waarden gelijk is voor alle kolommen. Maar we zien ook dat de dataset niet schoon is. Met behulp van df.info() zien we dat sommige kolommen float-datatypes bevatten."
   ]
  },
  {
   "cell_type": "markdown",
   "metadata": {},
   "source": [
    "De enige kolommen die daadwerkelijk float-datatypes moeten hebben, zijn de kolommen BMI en Age (Leeftijd), omdat deze numerieke waarden representeren. Daarom hoeven de datatypes van deze kolommen niet worden gewijzigd. De overige kolommen bevatten categorieën en hebben float-datatypes (decimale getallen). Als we deze kolommen willen gebruiken in een classificatiealgoritme, moeten we onze dataset moeten schoonmaken. Dit betekent dat we de datatypes van floats naar integers moeten wijzigen."
   ]
  },
  {
   "cell_type": "markdown",
   "metadata": {},
   "source": [
    "Hiervoor hebben we de volgende code nodig:"
   ]
  },
  {
   "cell_type": "code",
   "execution_count": 4,
   "metadata": {},
   "outputs": [
    {
     "data": {
      "text/html": [
       "<div>\n",
       "<style scoped>\n",
       "    .dataframe tbody tr th:only-of-type {\n",
       "        vertical-align: middle;\n",
       "    }\n",
       "\n",
       "    .dataframe tbody tr th {\n",
       "        vertical-align: top;\n",
       "    }\n",
       "\n",
       "    .dataframe thead th {\n",
       "        text-align: right;\n",
       "    }\n",
       "</style>\n",
       "<table border=\"1\" class=\"dataframe\">\n",
       "  <thead>\n",
       "    <tr style=\"text-align: right;\">\n",
       "      <th></th>\n",
       "      <th>Diabetes_012</th>\n",
       "      <th>HighBP</th>\n",
       "      <th>HighChol</th>\n",
       "      <th>CholCheck</th>\n",
       "      <th>BMI</th>\n",
       "      <th>Smoker</th>\n",
       "      <th>Stroke</th>\n",
       "      <th>HeartDiseaseorAttack</th>\n",
       "      <th>PhysActivity</th>\n",
       "      <th>Fruits</th>\n",
       "      <th>...</th>\n",
       "      <th>AnyHealthcare</th>\n",
       "      <th>NoDocbcCost</th>\n",
       "      <th>GenHlth</th>\n",
       "      <th>MentHlth</th>\n",
       "      <th>PhysHlth</th>\n",
       "      <th>DiffWalk</th>\n",
       "      <th>Sex</th>\n",
       "      <th>Age</th>\n",
       "      <th>Education</th>\n",
       "      <th>Income</th>\n",
       "    </tr>\n",
       "  </thead>\n",
       "  <tbody>\n",
       "    <tr>\n",
       "      <th>0</th>\n",
       "      <td>0</td>\n",
       "      <td>0</td>\n",
       "      <td>1</td>\n",
       "      <td>1</td>\n",
       "      <td>15.0</td>\n",
       "      <td>1</td>\n",
       "      <td>0</td>\n",
       "      <td>0</td>\n",
       "      <td>0</td>\n",
       "      <td>1</td>\n",
       "      <td>...</td>\n",
       "      <td>1</td>\n",
       "      <td>0</td>\n",
       "      <td>5</td>\n",
       "      <td>10</td>\n",
       "      <td>20</td>\n",
       "      <td>0</td>\n",
       "      <td>0</td>\n",
       "      <td>11</td>\n",
       "      <td>4</td>\n",
       "      <td>5</td>\n",
       "    </tr>\n",
       "    <tr>\n",
       "      <th>1</th>\n",
       "      <td>2</td>\n",
       "      <td>1</td>\n",
       "      <td>0</td>\n",
       "      <td>1</td>\n",
       "      <td>28.0</td>\n",
       "      <td>0</td>\n",
       "      <td>0</td>\n",
       "      <td>1</td>\n",
       "      <td>0</td>\n",
       "      <td>1</td>\n",
       "      <td>...</td>\n",
       "      <td>1</td>\n",
       "      <td>0</td>\n",
       "      <td>2</td>\n",
       "      <td>0</td>\n",
       "      <td>0</td>\n",
       "      <td>0</td>\n",
       "      <td>0</td>\n",
       "      <td>11</td>\n",
       "      <td>4</td>\n",
       "      <td>3</td>\n",
       "    </tr>\n",
       "    <tr>\n",
       "      <th>2</th>\n",
       "      <td>2</td>\n",
       "      <td>1</td>\n",
       "      <td>1</td>\n",
       "      <td>1</td>\n",
       "      <td>33.0</td>\n",
       "      <td>0</td>\n",
       "      <td>0</td>\n",
       "      <td>0</td>\n",
       "      <td>1</td>\n",
       "      <td>1</td>\n",
       "      <td>...</td>\n",
       "      <td>1</td>\n",
       "      <td>0</td>\n",
       "      <td>2</td>\n",
       "      <td>10</td>\n",
       "      <td>0</td>\n",
       "      <td>0</td>\n",
       "      <td>0</td>\n",
       "      <td>9</td>\n",
       "      <td>4</td>\n",
       "      <td>7</td>\n",
       "    </tr>\n",
       "    <tr>\n",
       "      <th>3</th>\n",
       "      <td>2</td>\n",
       "      <td>0</td>\n",
       "      <td>1</td>\n",
       "      <td>1</td>\n",
       "      <td>29.0</td>\n",
       "      <td>0</td>\n",
       "      <td>1</td>\n",
       "      <td>1</td>\n",
       "      <td>1</td>\n",
       "      <td>1</td>\n",
       "      <td>...</td>\n",
       "      <td>1</td>\n",
       "      <td>0</td>\n",
       "      <td>5</td>\n",
       "      <td>0</td>\n",
       "      <td>30</td>\n",
       "      <td>1</td>\n",
       "      <td>1</td>\n",
       "      <td>12</td>\n",
       "      <td>3</td>\n",
       "      <td>4</td>\n",
       "    </tr>\n",
       "    <tr>\n",
       "      <th>4</th>\n",
       "      <td>0</td>\n",
       "      <td>0</td>\n",
       "      <td>0</td>\n",
       "      <td>1</td>\n",
       "      <td>24.0</td>\n",
       "      <td>1</td>\n",
       "      <td>0</td>\n",
       "      <td>0</td>\n",
       "      <td>0</td>\n",
       "      <td>0</td>\n",
       "      <td>...</td>\n",
       "      <td>1</td>\n",
       "      <td>0</td>\n",
       "      <td>3</td>\n",
       "      <td>0</td>\n",
       "      <td>0</td>\n",
       "      <td>1</td>\n",
       "      <td>1</td>\n",
       "      <td>13</td>\n",
       "      <td>5</td>\n",
       "      <td>6</td>\n",
       "    </tr>\n",
       "  </tbody>\n",
       "</table>\n",
       "<p>5 rows × 22 columns</p>\n",
       "</div>"
      ],
      "text/plain": [
       "   Diabetes_012  HighBP  HighChol  CholCheck   BMI  Smoker  Stroke  \\\n",
       "0             0       0         1          1  15.0       1       0   \n",
       "1             2       1         0          1  28.0       0       0   \n",
       "2             2       1         1          1  33.0       0       0   \n",
       "3             2       0         1          1  29.0       0       1   \n",
       "4             0       0         0          1  24.0       1       0   \n",
       "\n",
       "   HeartDiseaseorAttack  PhysActivity  Fruits  ...  AnyHealthcare  \\\n",
       "0                     0             0       1  ...              1   \n",
       "1                     1             0       1  ...              1   \n",
       "2                     0             1       1  ...              1   \n",
       "3                     1             1       1  ...              1   \n",
       "4                     0             0       0  ...              1   \n",
       "\n",
       "   NoDocbcCost  GenHlth  MentHlth  PhysHlth  DiffWalk  Sex  Age  Education  \\\n",
       "0            0        5        10        20         0    0   11          4   \n",
       "1            0        2         0         0         0    0   11          4   \n",
       "2            0        2        10         0         0    0    9          4   \n",
       "3            0        5         0        30         1    1   12          3   \n",
       "4            0        3         0         0         1    1   13          5   \n",
       "\n",
       "   Income  \n",
       "0       5  \n",
       "1       3  \n",
       "2       7  \n",
       "3       4  \n",
       "4       6  \n",
       "\n",
       "[5 rows x 22 columns]"
      ]
     },
     "execution_count": 4,
     "metadata": {},
     "output_type": "execute_result"
    }
   ],
   "source": [
    "df[['Diabetes_012', 'HighChol', 'Smoker', 'Stroke', 'HeartDiseaseorAttack', 'NoDocbcCost', 'GenHlth', 'MentHlth', 'PhysHlth', 'DiffWalk', 'Education', 'Income']] = df[['Diabetes_012', 'HighChol', 'Smoker', 'Stroke', 'HeartDiseaseorAttack', 'NoDocbcCost', 'GenHlth', 'MentHlth', 'PhysHlth', 'DiffWalk', 'Education', 'Income']].astype(int)\n",
    "df.head(5)"
   ]
  },
  {
   "cell_type": "markdown",
   "metadata": {},
   "source": [
    "M.b.v df.info() kunnen we zien dat we de datatypes van de kolommen succesvol hebben veranderd. "
   ]
  },
  {
   "cell_type": "code",
   "execution_count": 5,
   "metadata": {},
   "outputs": [
    {
     "name": "stdout",
     "output_type": "stream",
     "text": [
      "<class 'pandas.core.frame.DataFrame'>\n",
      "RangeIndex: 236378 entries, 0 to 236377\n",
      "Data columns (total 22 columns):\n",
      " #   Column                Non-Null Count   Dtype  \n",
      "---  ------                --------------   -----  \n",
      " 0   Diabetes_012          236378 non-null  int32  \n",
      " 1   HighBP                236378 non-null  int64  \n",
      " 2   HighChol              236378 non-null  int32  \n",
      " 3   CholCheck             236378 non-null  int64  \n",
      " 4   BMI                   236378 non-null  float64\n",
      " 5   Smoker                236378 non-null  int32  \n",
      " 6   Stroke                236378 non-null  int32  \n",
      " 7   HeartDiseaseorAttack  236378 non-null  int32  \n",
      " 8   PhysActivity          236378 non-null  int64  \n",
      " 9   Fruits                236378 non-null  int64  \n",
      " 10  Veggies               236378 non-null  int64  \n",
      " 11  HvyAlcoholConsump     236378 non-null  int64  \n",
      " 12  AnyHealthcare         236378 non-null  int64  \n",
      " 13  NoDocbcCost           236378 non-null  int32  \n",
      " 14  GenHlth               236378 non-null  int32  \n",
      " 15  MentHlth              236378 non-null  int32  \n",
      " 16  PhysHlth              236378 non-null  int32  \n",
      " 17  DiffWalk              236378 non-null  int32  \n",
      " 18  Sex                   236378 non-null  int64  \n",
      " 19  Age                   236378 non-null  int64  \n",
      " 20  Education             236378 non-null  int32  \n",
      " 21  Income                236378 non-null  int32  \n",
      "dtypes: float64(1), int32(12), int64(9)\n",
      "memory usage: 28.9 MB\n"
     ]
    }
   ],
   "source": [
    "df.info()"
   ]
  },
  {
   "cell_type": "markdown",
   "metadata": {},
   "source": [
    "Nadat we onze dataset hebben schoongemaakt, kunnen we verschillende statistieken berekenen. Deze berekeningen zijn heel belangrijk om te bepalen welke data/variabelen belangrijk zijn voor het trainen van ona algoritme."
   ]
  },
  {
   "cell_type": "markdown",
   "metadata": {},
   "source": [
    "## Statistieken"
   ]
  },
  {
   "cell_type": "markdown",
   "metadata": {},
   "source": [
    "M.b.v van df.describe() kunnen we verschillende statistiek berekenigen (Zoals: Gemiddelde, Standaardderivatie, Min, Max, enz) bij alle kolommen van onze dataset uitvoeren."
   ]
  },
  {
   "cell_type": "code",
   "execution_count": 6,
   "metadata": {},
   "outputs": [
    {
     "data": {
      "text/html": [
       "<div>\n",
       "<style scoped>\n",
       "    .dataframe tbody tr th:only-of-type {\n",
       "        vertical-align: middle;\n",
       "    }\n",
       "\n",
       "    .dataframe tbody tr th {\n",
       "        vertical-align: top;\n",
       "    }\n",
       "\n",
       "    .dataframe thead th {\n",
       "        text-align: right;\n",
       "    }\n",
       "</style>\n",
       "<table border=\"1\" class=\"dataframe\">\n",
       "  <thead>\n",
       "    <tr style=\"text-align: right;\">\n",
       "      <th></th>\n",
       "      <th>Diabetes_012</th>\n",
       "      <th>HighBP</th>\n",
       "      <th>HighChol</th>\n",
       "      <th>CholCheck</th>\n",
       "      <th>BMI</th>\n",
       "      <th>Smoker</th>\n",
       "      <th>Stroke</th>\n",
       "      <th>HeartDiseaseorAttack</th>\n",
       "      <th>PhysActivity</th>\n",
       "      <th>Fruits</th>\n",
       "      <th>...</th>\n",
       "      <th>AnyHealthcare</th>\n",
       "      <th>NoDocbcCost</th>\n",
       "      <th>GenHlth</th>\n",
       "      <th>MentHlth</th>\n",
       "      <th>PhysHlth</th>\n",
       "      <th>DiffWalk</th>\n",
       "      <th>Sex</th>\n",
       "      <th>Age</th>\n",
       "      <th>Education</th>\n",
       "      <th>Income</th>\n",
       "    </tr>\n",
       "  </thead>\n",
       "  <tbody>\n",
       "    <tr>\n",
       "      <th>count</th>\n",
       "      <td>236378.000000</td>\n",
       "      <td>236378.000000</td>\n",
       "      <td>236378.000000</td>\n",
       "      <td>236378.000000</td>\n",
       "      <td>236378.000000</td>\n",
       "      <td>236378.000000</td>\n",
       "      <td>236378.000000</td>\n",
       "      <td>236378.000000</td>\n",
       "      <td>236378.000000</td>\n",
       "      <td>236378.000000</td>\n",
       "      <td>...</td>\n",
       "      <td>236378.000000</td>\n",
       "      <td>236378.000000</td>\n",
       "      <td>236378.000000</td>\n",
       "      <td>236378.000000</td>\n",
       "      <td>236378.000000</td>\n",
       "      <td>236378.000000</td>\n",
       "      <td>236378.000000</td>\n",
       "      <td>236378.000000</td>\n",
       "      <td>236378.000000</td>\n",
       "      <td>236378.000000</td>\n",
       "    </tr>\n",
       "    <tr>\n",
       "      <th>mean</th>\n",
       "      <td>0.307791</td>\n",
       "      <td>0.418558</td>\n",
       "      <td>0.402059</td>\n",
       "      <td>0.963347</td>\n",
       "      <td>28.953579</td>\n",
       "      <td>0.411997</td>\n",
       "      <td>0.038900</td>\n",
       "      <td>0.086548</td>\n",
       "      <td>0.779231</td>\n",
       "      <td>0.621259</td>\n",
       "      <td>...</td>\n",
       "      <td>0.962573</td>\n",
       "      <td>0.063737</td>\n",
       "      <td>2.480717</td>\n",
       "      <td>3.937710</td>\n",
       "      <td>3.751297</td>\n",
       "      <td>0.153948</td>\n",
       "      <td>0.477824</td>\n",
       "      <td>7.863930</td>\n",
       "      <td>5.139099</td>\n",
       "      <td>6.927451</td>\n",
       "    </tr>\n",
       "    <tr>\n",
       "      <th>std</th>\n",
       "      <td>0.705037</td>\n",
       "      <td>0.493324</td>\n",
       "      <td>0.490315</td>\n",
       "      <td>0.187909</td>\n",
       "      <td>6.552055</td>\n",
       "      <td>0.492196</td>\n",
       "      <td>0.193356</td>\n",
       "      <td>0.281172</td>\n",
       "      <td>0.414766</td>\n",
       "      <td>0.485074</td>\n",
       "      <td>...</td>\n",
       "      <td>0.189807</td>\n",
       "      <td>0.244284</td>\n",
       "      <td>1.029134</td>\n",
       "      <td>7.886506</td>\n",
       "      <td>8.245907</td>\n",
       "      <td>0.360900</td>\n",
       "      <td>0.499509</td>\n",
       "      <td>3.236997</td>\n",
       "      <td>0.946185</td>\n",
       "      <td>2.375450</td>\n",
       "    </tr>\n",
       "    <tr>\n",
       "      <th>min</th>\n",
       "      <td>0.000000</td>\n",
       "      <td>0.000000</td>\n",
       "      <td>0.000000</td>\n",
       "      <td>0.000000</td>\n",
       "      <td>12.000000</td>\n",
       "      <td>0.000000</td>\n",
       "      <td>0.000000</td>\n",
       "      <td>0.000000</td>\n",
       "      <td>0.000000</td>\n",
       "      <td>0.000000</td>\n",
       "      <td>...</td>\n",
       "      <td>0.000000</td>\n",
       "      <td>0.000000</td>\n",
       "      <td>1.000000</td>\n",
       "      <td>0.000000</td>\n",
       "      <td>0.000000</td>\n",
       "      <td>0.000000</td>\n",
       "      <td>0.000000</td>\n",
       "      <td>1.000000</td>\n",
       "      <td>1.000000</td>\n",
       "      <td>1.000000</td>\n",
       "    </tr>\n",
       "    <tr>\n",
       "      <th>25%</th>\n",
       "      <td>0.000000</td>\n",
       "      <td>0.000000</td>\n",
       "      <td>0.000000</td>\n",
       "      <td>1.000000</td>\n",
       "      <td>24.000000</td>\n",
       "      <td>0.000000</td>\n",
       "      <td>0.000000</td>\n",
       "      <td>0.000000</td>\n",
       "      <td>1.000000</td>\n",
       "      <td>0.000000</td>\n",
       "      <td>...</td>\n",
       "      <td>1.000000</td>\n",
       "      <td>0.000000</td>\n",
       "      <td>2.000000</td>\n",
       "      <td>0.000000</td>\n",
       "      <td>0.000000</td>\n",
       "      <td>0.000000</td>\n",
       "      <td>0.000000</td>\n",
       "      <td>5.000000</td>\n",
       "      <td>4.000000</td>\n",
       "      <td>5.000000</td>\n",
       "    </tr>\n",
       "    <tr>\n",
       "      <th>50%</th>\n",
       "      <td>0.000000</td>\n",
       "      <td>0.000000</td>\n",
       "      <td>0.000000</td>\n",
       "      <td>1.000000</td>\n",
       "      <td>28.000000</td>\n",
       "      <td>0.000000</td>\n",
       "      <td>0.000000</td>\n",
       "      <td>0.000000</td>\n",
       "      <td>1.000000</td>\n",
       "      <td>1.000000</td>\n",
       "      <td>...</td>\n",
       "      <td>1.000000</td>\n",
       "      <td>0.000000</td>\n",
       "      <td>2.000000</td>\n",
       "      <td>0.000000</td>\n",
       "      <td>0.000000</td>\n",
       "      <td>0.000000</td>\n",
       "      <td>0.000000</td>\n",
       "      <td>8.000000</td>\n",
       "      <td>5.000000</td>\n",
       "      <td>7.000000</td>\n",
       "    </tr>\n",
       "    <tr>\n",
       "      <th>75%</th>\n",
       "      <td>0.000000</td>\n",
       "      <td>1.000000</td>\n",
       "      <td>1.000000</td>\n",
       "      <td>1.000000</td>\n",
       "      <td>32.000000</td>\n",
       "      <td>1.000000</td>\n",
       "      <td>0.000000</td>\n",
       "      <td>0.000000</td>\n",
       "      <td>1.000000</td>\n",
       "      <td>1.000000</td>\n",
       "      <td>...</td>\n",
       "      <td>1.000000</td>\n",
       "      <td>0.000000</td>\n",
       "      <td>3.000000</td>\n",
       "      <td>4.000000</td>\n",
       "      <td>2.000000</td>\n",
       "      <td>0.000000</td>\n",
       "      <td>1.000000</td>\n",
       "      <td>10.000000</td>\n",
       "      <td>6.000000</td>\n",
       "      <td>9.000000</td>\n",
       "    </tr>\n",
       "    <tr>\n",
       "      <th>max</th>\n",
       "      <td>2.000000</td>\n",
       "      <td>1.000000</td>\n",
       "      <td>1.000000</td>\n",
       "      <td>1.000000</td>\n",
       "      <td>99.000000</td>\n",
       "      <td>1.000000</td>\n",
       "      <td>1.000000</td>\n",
       "      <td>1.000000</td>\n",
       "      <td>1.000000</td>\n",
       "      <td>1.000000</td>\n",
       "      <td>...</td>\n",
       "      <td>1.000000</td>\n",
       "      <td>1.000000</td>\n",
       "      <td>5.000000</td>\n",
       "      <td>30.000000</td>\n",
       "      <td>30.000000</td>\n",
       "      <td>1.000000</td>\n",
       "      <td>1.000000</td>\n",
       "      <td>13.000000</td>\n",
       "      <td>6.000000</td>\n",
       "      <td>11.000000</td>\n",
       "    </tr>\n",
       "  </tbody>\n",
       "</table>\n",
       "<p>8 rows × 22 columns</p>\n",
       "</div>"
      ],
      "text/plain": [
       "        Diabetes_012         HighBP       HighChol      CholCheck  \\\n",
       "count  236378.000000  236378.000000  236378.000000  236378.000000   \n",
       "mean        0.307791       0.418558       0.402059       0.963347   \n",
       "std         0.705037       0.493324       0.490315       0.187909   \n",
       "min         0.000000       0.000000       0.000000       0.000000   \n",
       "25%         0.000000       0.000000       0.000000       1.000000   \n",
       "50%         0.000000       0.000000       0.000000       1.000000   \n",
       "75%         0.000000       1.000000       1.000000       1.000000   \n",
       "max         2.000000       1.000000       1.000000       1.000000   \n",
       "\n",
       "                 BMI         Smoker         Stroke  HeartDiseaseorAttack  \\\n",
       "count  236378.000000  236378.000000  236378.000000         236378.000000   \n",
       "mean       28.953579       0.411997       0.038900              0.086548   \n",
       "std         6.552055       0.492196       0.193356              0.281172   \n",
       "min        12.000000       0.000000       0.000000              0.000000   \n",
       "25%        24.000000       0.000000       0.000000              0.000000   \n",
       "50%        28.000000       0.000000       0.000000              0.000000   \n",
       "75%        32.000000       1.000000       0.000000              0.000000   \n",
       "max        99.000000       1.000000       1.000000              1.000000   \n",
       "\n",
       "        PhysActivity         Fruits  ...  AnyHealthcare    NoDocbcCost  \\\n",
       "count  236378.000000  236378.000000  ...  236378.000000  236378.000000   \n",
       "mean        0.779231       0.621259  ...       0.962573       0.063737   \n",
       "std         0.414766       0.485074  ...       0.189807       0.244284   \n",
       "min         0.000000       0.000000  ...       0.000000       0.000000   \n",
       "25%         1.000000       0.000000  ...       1.000000       0.000000   \n",
       "50%         1.000000       1.000000  ...       1.000000       0.000000   \n",
       "75%         1.000000       1.000000  ...       1.000000       0.000000   \n",
       "max         1.000000       1.000000  ...       1.000000       1.000000   \n",
       "\n",
       "             GenHlth       MentHlth       PhysHlth       DiffWalk  \\\n",
       "count  236378.000000  236378.000000  236378.000000  236378.000000   \n",
       "mean        2.480717       3.937710       3.751297       0.153948   \n",
       "std         1.029134       7.886506       8.245907       0.360900   \n",
       "min         1.000000       0.000000       0.000000       0.000000   \n",
       "25%         2.000000       0.000000       0.000000       0.000000   \n",
       "50%         2.000000       0.000000       0.000000       0.000000   \n",
       "75%         3.000000       4.000000       2.000000       0.000000   \n",
       "max         5.000000      30.000000      30.000000       1.000000   \n",
       "\n",
       "                 Sex            Age      Education         Income  \n",
       "count  236378.000000  236378.000000  236378.000000  236378.000000  \n",
       "mean        0.477824       7.863930       5.139099       6.927451  \n",
       "std         0.499509       3.236997       0.946185       2.375450  \n",
       "min         0.000000       1.000000       1.000000       1.000000  \n",
       "25%         0.000000       5.000000       4.000000       5.000000  \n",
       "50%         0.000000       8.000000       5.000000       7.000000  \n",
       "75%         1.000000      10.000000       6.000000       9.000000  \n",
       "max         1.000000      13.000000       6.000000      11.000000  \n",
       "\n",
       "[8 rows x 22 columns]"
      ]
     },
     "execution_count": 6,
     "metadata": {},
     "output_type": "execute_result"
    }
   ],
   "source": [
    "df.describe()"
   ]
  },
  {
   "cell_type": "markdown",
   "metadata": {},
   "source": [
    "### Outliers:"
   ]
  },
  {
   "cell_type": "markdown",
   "metadata": {},
   "source": [
    "\n",
    "Outliers zijn getallen die vallen buiten 95%-betrouwbaarheidsinterval in een dataset. Outliers kunnen de resultaten van onze analyse of voorspellingen van AI-Model verstoren. Stel je voor dat je de gemiddelde lengte van mensen in een kamer berekent. Als een man van 2 meter ook in die kamer is, zal zijn lengte het gemiddelde flink verhogen, waardoor het niet representatief is voor de populatie in de kamer."
   ]
  },
  {
   "cell_type": "markdown",
   "metadata": {},
   "source": [
    "Door de outliers te verwijderen, zorgen we dat onze dataset juist representatie voor de populatie is en ook zorgen we voor een beter beeld van onze resultaten. Hierdoor kunnen we de conclusies en voorspellingen betrouwbaarder maken."
   ]
  },
  {
   "cell_type": "markdown",
   "metadata": {},
   "source": [
    "De enige variabelen dat we moeten onderzoeken zijn: 'BMI', 'Age, 'PhysHlth' en 'MentHlth'. Want deze variabelen representeren juist numerieke waardes. Hierdoor hebben de volgende code gebruikt om boxplotten voor deze variabelen te genereren."
   ]
  },
  {
   "cell_type": "code",
   "execution_count": 7,
   "metadata": {},
   "outputs": [
    {
     "data": {
      "image/png": "[encoded data removed]",
      "text/plain": [
       "<Figure size 640x480 with 1 Axes>"
      ]
     },
     "metadata": {},
     "output_type": "display_data"
    }
   ],
   "source": [
    "sns.boxplot(data=df[['BMI', 'Age', 'PhysHlth', 'MentHlth']])\n",
    "plt.xticks(rotation=45)\n",
    "plt.title('Control voor outliers')\n",
    "plt.show()"
   ]
  },
  {
   "cell_type": "markdown",
   "metadata": {},
   "source": [
    "Nadat we de boxplotten hebben gegenereerd, kunnen we zien dat de variabelen 'BMI', 'PhysHlth' en 'MentHlth' bevatten veel outliers. Om een betere beeld van deze outliers te krijgen, zullen we inzoomen in deze variabelen:"
   ]
  },
  {
   "cell_type": "code",
   "execution_count": 8,
   "metadata": {},
   "outputs": [
    {
     "data": {
      "image/png": "[encoded data removed]",
      "text/plain": [
       "<Figure size 640x480 with 1 Axes>"
      ]
     },
     "metadata": {},
     "output_type": "display_data"
    }
   ],
   "source": [
    "sns.boxplot(data=df[['BMI', 'Age']])\n",
    "plt.xticks(rotation=45)\n",
    "plt.title('Control voor outliers')\n",
    "plt.show()"
   ]
  },
  {
   "cell_type": "code",
   "execution_count": 9,
   "metadata": {},
   "outputs": [
    {
     "data": {
      "image/png": "[encoded data removed]",
      "text/plain": [
       "<Figure size 640x480 with 1 Axes>"
      ]
     },
     "metadata": {},
     "output_type": "display_data"
    }
   ],
   "source": [
    "sns.boxplot(data=df[['PhysHlth', 'MentHlth']])\n",
    "plt.xticks(rotation=45)\n",
    "plt.title('Control voor outliers')\n",
    "plt.show()"
   ]
  },
  {
   "cell_type": "markdown",
   "metadata": {},
   "source": [
    "\n",
    "Nadat we hebben ingezoomd op de variabelen, kunnen we zien dat:\n",
    "\n",
    "- De meeste outliers van de variabele 'BMI' een waarde boven de 43 hebben. Deze outliers zijn veroorzaakt door fouten tijdens het invoeren van deze waardes, aangezien de maximale BMI-waarde 40 is. Een BMI hoger dan 40 betekent niet automatisch een slechtere Body Mass Index dan iemand met een BMI van 40. Daarom hebben we gekozen om alle rijen te verwijderen die personen met een BMI hoger dan 43 bevatten.\n",
    "\n",
    "- De meeste outliers van de variabelen 'PhysHlth' en 'MentHlth' hebben waardes boven respectievelijk 6 (voor PhysHlth) en 11 (voor MentHlth). Deze outliers worden veroorzaakt omdat de meeste mensen gemiddeld 0 tot 3 dagen problemen hebben met hun fysieke gezondheid en gemiddeld 0 tot 4 dagen problemen hebben met hun mentale gezondheid. Dus mensen die meer dagen problemen hebben met hun fysieke en mentale gezondheid worden als outliers gezien. Daarom hebben we gekozen om alle rijen te verwijderen die personen bevatten met waardes boven respectievelijk 6 (voor PhysHlth) en 11 (voor MentHlth).\n",
    "\n",
    "Hiervoor hebben de volgende codes nodig:"
   ]
  },
  {
   "cell_type": "code",
   "execution_count": 10,
   "metadata": {},
   "outputs": [
    {
     "data": {
      "image/png": "[encoded data removed]",
      "text/plain": [
       "<Figure size 640x480 with 1 Axes>"
      ]
     },
     "metadata": {},
     "output_type": "display_data"
    }
   ],
   "source": [
    "conditions = (df['BMI'] < 43) & (df['PhysHlth'] < 6) & (df['MentHlth'] < 11)\n",
    "df_2 = df[conditions]\n",
    "sns.boxplot(data=df_2[['BMI', 'Age']])\n",
    "plt.xticks(rotation=45)\n",
    "plt.title('Control voor het verwijderen van outliers')\n",
    "plt.show()"
   ]
  },
  {
   "cell_type": "code",
   "execution_count": 11,
   "metadata": {},
   "outputs": [
    {
     "data": {
      "image/png": "[encoded data removed]",
      "text/plain": [
       "<Figure size 640x480 with 1 Axes>"
      ]
     },
     "metadata": {},
     "output_type": "display_data"
    }
   ],
   "source": [
    "sns.boxplot(data=df_2[['PhysHlth', 'MentHlth']])\n",
    "plt.xticks(rotation=45)\n",
    "plt.title('Control voor het verwijderen van outliers')\n",
    "plt.show()"
   ]
  },
  {
   "cell_type": "markdown",
   "metadata": {},
   "source": [
    "Na het verwijderen van de respectieve waardes kunnen we zien dat de meeste outliers van de BMI variabele zijn verwijderd, en de overgebleven outliers zullen geen nadelige invloed hebben op onze dataset. Terwijl bij de variabelen 'PhysHlth' en 'MentHlth' hebben we nog meer outliers gevonden. Daarom hebben we besloten om deze variabelen uit onze dataset te verwijderen, aangezien ze te chaotisch lijken voor ons algoritme."
   ]
  },
  {
   "cell_type": "code",
   "execution_count": 50,
   "metadata": {},
   "outputs": [
    {
     "name": "stdout",
     "output_type": "stream",
     "text": [
      "   Diabetes_012  HighBP  HighChol  CholCheck   BMI  Smoker  Stroke  \\\n",
      "1             2       1         0          1  28.0       0       0   \n",
      "2             2       1         1          1  33.0       0       0   \n",
      "4             0       0         0          1  24.0       1       0   \n",
      "7             2       0         0          1  24.0       0       0   \n",
      "8             0       1         1          1  30.0       0       0   \n",
      "\n",
      "   HeartDiseaseorAttack  PhysActivity  Fruits  Veggies  HvyAlcoholConsump  \\\n",
      "1                     1             0       1        0                  0   \n",
      "2                     0             1       1        1                  0   \n",
      "4                     0             0       0        0                  0   \n",
      "7                     1             0       0        1                  0   \n",
      "8                     0             0       1        1                  0   \n",
      "\n",
      "   AnyHealthcare  NoDocbcCost  GenHlth  DiffWalk  Sex  Age  Education  Income  \n",
      "1              1            0        2         0    0   11          4       3  \n",
      "2              1            0        2         0    0    9          4       7  \n",
      "4              1            0        3         1    1   13          5       6  \n",
      "7              1            0        4         0    1   12          6       7  \n",
      "8              1            0        2         0    0    7          4       6  \n"
     ]
    }
   ],
   "source": [
    "df_2 = df_2.drop(['PhysHlth', 'MentHlth'], axis=1)\n",
    "print(df_2.head(5))"
   ]
  },
  {
   "cell_type": "markdown",
   "metadata": {},
   "source": [
    "### Correlaties:"
   ]
  },
  {
   "cell_type": "markdown",
   "metadata": {},
   "source": [
    "Correlatie vertelt aan ons welke variabelen van onze dataset samen bewegen en in welke richting (Omhoog = Positief of Omlaag=Negatief). Dus, door correlaties te begrijpen, kunnen we patronen herkennen en beter voorspellen. Hierdoor kunnen we ook de belangrijkste variabelen  voor onze targetvariabel vinden."
   ]
  },
  {
   "cell_type": "code",
   "execution_count": 12,
   "metadata": {},
   "outputs": [
    {
     "name": "stdout",
     "output_type": "stream",
     "text": [
      "                      Diabetes_012    HighBP  HighChol  CholCheck       BMI  \\\n",
      "Diabetes_012              1.000000  0.248725  0.184038   0.067165  0.182314   \n",
      "HighBP                    0.248725  1.000000  0.275191   0.099958  0.215701   \n",
      "HighChol                  0.184038  0.275191  1.000000   0.100976  0.099331   \n",
      "CholCheck                 0.067165  0.099958  0.100976   1.000000  0.036882   \n",
      "BMI                       0.182314  0.215701  0.099331   0.036882  1.000000   \n",
      "Smoker                    0.051736  0.096254  0.074937  -0.015102  0.025130   \n",
      "Stroke                    0.076313  0.112315  0.072637   0.021728  0.007706   \n",
      "HeartDiseaseorAttack      0.149599  0.183606  0.154224   0.040701  0.035201   \n",
      "PhysActivity             -0.113697 -0.100611 -0.051965   0.003910 -0.120989   \n",
      "Fruits                   -0.027479 -0.029285 -0.020113   0.026437 -0.093719   \n",
      "Veggies                  -0.041920 -0.027768 -0.024146   0.019724 -0.044632   \n",
      "HvyAlcoholConsump        -0.050747  0.002779 -0.009444  -0.025092 -0.024520   \n",
      "AnyHealthcare             0.026502  0.055089  0.059480   0.146647 -0.004401   \n",
      "NoDocbcCost               0.002629 -0.019198 -0.018597  -0.060654  0.023419   \n",
      "GenHlth                   0.252963  0.261732  0.168018   0.035091  0.234507   \n",
      "MentHlth                 -0.041014 -0.066904 -0.028923  -0.019108  0.010929   \n",
      "PhysHlth                  0.047364  0.048574  0.048636   0.017412  0.050662   \n",
      "DiffWalk                  0.154373  0.160332  0.088737   0.034806  0.121944   \n",
      "Sex                       0.043960  0.071587  0.033058  -0.049089  0.078350   \n",
      "Age                       0.198457  0.352280  0.292805   0.100571 -0.019117   \n",
      "Education                -0.088906 -0.091890 -0.015848   0.035123 -0.092995   \n",
      "Income                   -0.128157 -0.127029 -0.041819   0.029183 -0.051428   \n",
      "\n",
      "                        Smoker    Stroke  HeartDiseaseorAttack  PhysActivity  \\\n",
      "Diabetes_012          0.051736  0.076313              0.149599     -0.113697   \n",
      "HighBP                0.096254  0.112315              0.183606     -0.100611   \n",
      "HighChol              0.074937  0.072637              0.154224     -0.051965   \n",
      "CholCheck            -0.015102  0.021728              0.040701      0.003910   \n",
      "BMI                   0.025130  0.007706              0.035201     -0.120989   \n",
      "Smoker                1.000000  0.044177              0.097319     -0.069519   \n",
      "Stroke                0.044177  1.000000              0.140533     -0.050277   \n",
      "HeartDiseaseorAttack  0.097319  0.140533              1.000000     -0.056017   \n",
      "PhysActivity         -0.069519 -0.050277             -0.056017      1.000000   \n",
      "Fruits               -0.067704  0.000727             -0.005814      0.112455   \n",
      "Veggies              -0.009958 -0.019370             -0.017053      0.124161   \n",
      "HvyAlcoholConsump     0.102353 -0.010401             -0.024670      0.005684   \n",
      "AnyHealthcare        -0.020222  0.012901              0.027118      0.032872   \n",
      "NoDocbcCost           0.027261  0.007636             -0.003983     -0.023729   \n",
      "GenHlth               0.128247  0.106482              0.184320     -0.186407   \n",
      "MentHlth             -0.006365 -0.014857             -0.040965      0.025784   \n",
      "PhysHlth              0.016697  0.034428              0.045984     -0.040925   \n",
      "DiffWalk              0.079513  0.116020              0.134462     -0.184613   \n",
      "Sex                   0.084596  0.005395              0.090998      0.040159   \n",
      "Age                   0.135612  0.124322              0.215746     -0.103922   \n",
      "Education            -0.166393 -0.044611             -0.059257      0.200571   \n",
      "Income               -0.118039 -0.086450             -0.090030      0.199411   \n",
      "\n",
      "                        Fruits  ...  AnyHealthcare  NoDocbcCost   GenHlth  \\\n",
      "Diabetes_012         -0.027479  ...       0.026502     0.002629  0.252963   \n",
      "HighBP               -0.029285  ...       0.055089    -0.019198  0.261732   \n",
      "HighChol             -0.020113  ...       0.059480    -0.018597  0.168018   \n",
      "CholCheck             0.026437  ...       0.146647    -0.060654  0.035091   \n",
      "BMI                  -0.093719  ...      -0.004401     0.023419  0.234507   \n",
      "Smoker               -0.067704  ...      -0.020222     0.027261  0.128247   \n",
      "Stroke                0.000727  ...       0.012901     0.007636  0.106482   \n",
      "HeartDiseaseorAttack -0.005814  ...       0.027118    -0.003983  0.184320   \n",
      "PhysActivity          0.112455  ...       0.032872    -0.023729 -0.186407   \n",
      "Fruits                1.000000  ...       0.018467    -0.020409 -0.077581   \n",
      "Veggies               0.211002  ...       0.036478    -0.024315 -0.089042   \n",
      "HvyAlcoholConsump    -0.042336  ...      -0.008959     0.005042 -0.019704   \n",
      "AnyHealthcare         0.018467  ...       1.000000    -0.233469 -0.022406   \n",
      "NoDocbcCost          -0.020409  ...      -0.233469     1.000000  0.076750   \n",
      "GenHlth              -0.077581  ...      -0.022406     0.076750  1.000000   \n",
      "MentHlth             -0.034444  ...      -0.012814     0.096326  0.062222   \n",
      "PhysHlth             -0.016919  ...       0.006839     0.055675  0.201671   \n",
      "DiffWalk             -0.014791  ...       0.020829     0.032211  0.247074   \n",
      "Sex                  -0.065397  ...      -0.029294    -0.023225  0.021386   \n",
      "Age                   0.070713  ...       0.136818    -0.111396  0.157368   \n",
      "Education             0.086337  ...       0.149239    -0.079370 -0.200554   \n",
      "Income                0.040012  ...       0.143460    -0.133580 -0.249988   \n",
      "\n",
      "                      MentHlth  PhysHlth  DiffWalk       Sex       Age  \\\n",
      "Diabetes_012         -0.041014  0.047364  0.154373  0.043960  0.198457   \n",
      "HighBP               -0.066904  0.048574  0.160332  0.071587  0.352280   \n",
      "HighChol             -0.028923  0.048636  0.088737  0.033058  0.292805   \n",
      "CholCheck            -0.019108  0.017412  0.034806 -0.049089  0.100571   \n",
      "BMI                   0.010929  0.050662  0.121944  0.078350 -0.019117   \n",
      "Smoker               -0.006365  0.016697  0.079513  0.084596  0.135612   \n",
      "Stroke               -0.014857  0.034428  0.116020  0.005395  0.124322   \n",
      "HeartDiseaseorAttack -0.040965  0.045984  0.134462  0.090998  0.215746   \n",
      "PhysActivity          0.025784 -0.040925 -0.184613  0.040159 -0.103922   \n",
      "Fruits               -0.034444 -0.016919 -0.014791 -0.065397  0.070713   \n",
      "Veggies               0.001863 -0.010080 -0.045555 -0.055065  0.010445   \n",
      "HvyAlcoholConsump     0.038641 -0.009891 -0.022518 -0.012389 -0.039005   \n",
      "AnyHealthcare        -0.012814  0.006839  0.020829 -0.029294  0.136818   \n",
      "NoDocbcCost           0.096326  0.055675  0.032211 -0.023225 -0.111396   \n",
      "GenHlth               0.062222  0.201671  0.247074  0.021386  0.157368   \n",
      "MentHlth              1.000000  0.158950 -0.003178 -0.105141 -0.230692   \n",
      "PhysHlth              0.158950  1.000000  0.129192 -0.044169 -0.002854   \n",
      "DiffWalk             -0.003178  0.129192  1.000000 -0.049457  0.215844   \n",
      "Sex                  -0.105141 -0.044169 -0.049457  1.000000 -0.043513   \n",
      "Age                  -0.230692 -0.002854  0.215844 -0.043513  1.000000   \n",
      "Education             0.056720 -0.003655 -0.118581 -0.021100 -0.054208   \n",
      "Income                0.006418 -0.054793 -0.209871  0.111793 -0.154614   \n",
      "\n",
      "                      Education    Income  \n",
      "Diabetes_012          -0.088906 -0.128157  \n",
      "HighBP                -0.091890 -0.127029  \n",
      "HighChol              -0.015848 -0.041819  \n",
      "CholCheck              0.035123  0.029183  \n",
      "BMI                   -0.092995 -0.051428  \n",
      "Smoker                -0.166393 -0.118039  \n",
      "Stroke                -0.044611 -0.086450  \n",
      "HeartDiseaseorAttack  -0.059257 -0.090030  \n",
      "PhysActivity           0.200571  0.199411  \n",
      "Fruits                 0.086337  0.040012  \n",
      "Veggies                0.127465  0.131512  \n",
      "HvyAlcoholConsump      0.008634  0.047637  \n",
      "AnyHealthcare          0.149239  0.143460  \n",
      "NoDocbcCost           -0.079370 -0.133580  \n",
      "GenHlth               -0.200554 -0.249988  \n",
      "MentHlth               0.056720  0.006418  \n",
      "PhysHlth              -0.003655 -0.054793  \n",
      "DiffWalk              -0.118581 -0.209871  \n",
      "Sex                   -0.021100  0.111793  \n",
      "Age                   -0.054208 -0.154614  \n",
      "Education              1.000000  0.419017  \n",
      "Income                 0.419017  1.000000  \n",
      "\n",
      "[22 rows x 22 columns]\n"
     ]
    }
   ],
   "source": [
    "correlatie = df_2.corr()\n",
    "print(correlatie)"
   ]
  },
  {
   "cell_type": "code",
   "execution_count": 13,
   "metadata": {},
   "outputs": [
    {
     "data": {
      "image/png": "[encoded data removed]",
      "text/plain": [
       "<Figure size 640x480 with 2 Axes>"
      ]
     },
     "metadata": {},
     "output_type": "display_data"
    }
   ],
   "source": [
    "sns.heatmap(correlatie, xticklabels=correlatie.columns, yticklabels=correlatie.columns, cmap=\"YlGnBu\")\n",
    "plt.show()"
   ]
  },
  {
   "cell_type": "markdown",
   "metadata": {},
   "source": [
    "Nadat we de correlaties van onze targetvariabel (Diabetes_012) hebben geanalyseerd, hebben gekozen om de volgende variabelen uit onze dataset te verwijderen: 'AnyHealthcare', 'NoDocbcCost', 'Education', 'Income'"
   ]
  },
  {
   "cell_type": "code",
   "execution_count": 51,
   "metadata": {},
   "outputs": [
    {
     "name": "stdout",
     "output_type": "stream",
     "text": [
      "   Diabetes_012  HighBP  HighChol  CholCheck   BMI  Smoker  Stroke  \\\n",
      "1             2       1         0          1  28.0       0       0   \n",
      "2             2       1         1          1  33.0       0       0   \n",
      "4             0       0         0          1  24.0       1       0   \n",
      "7             2       0         0          1  24.0       0       0   \n",
      "8             0       1         1          1  30.0       0       0   \n",
      "\n",
      "   HeartDiseaseorAttack  PhysActivity  Fruits  Veggies  HvyAlcoholConsump  \\\n",
      "1                     1             0       1        0                  0   \n",
      "2                     0             1       1        1                  0   \n",
      "4                     0             0       0        0                  0   \n",
      "7                     1             0       0        1                  0   \n",
      "8                     0             0       1        1                  0   \n",
      "\n",
      "   GenHlth  DiffWalk  Sex  Age  \n",
      "1        2         0    0   11  \n",
      "2        2         0    0    9  \n",
      "4        3         1    1   13  \n",
      "7        4         0    1   12  \n",
      "8        2         0    0    7  \n"
     ]
    }
   ],
   "source": [
    "df_3 = df_2.drop(['AnyHealthcare', 'NoDocbcCost', 'Education', 'Income'], axis=1)\n",
    "print(df_3.head(5))"
   ]
  },
  {
   "cell_type": "code",
   "execution_count": 15,
   "metadata": {},
   "outputs": [
    {
     "name": "stdout",
     "output_type": "stream",
     "text": [
      "                      Diabetes_012    HighBP  HighChol  CholCheck       BMI  \\\n",
      "Diabetes_012              1.000000  0.248725  0.184038   0.067165  0.182314   \n",
      "HighBP                    0.248725  1.000000  0.275191   0.099958  0.215701   \n",
      "HighChol                  0.184038  0.275191  1.000000   0.100976  0.099331   \n",
      "CholCheck                 0.067165  0.099958  0.100976   1.000000  0.036882   \n",
      "BMI                       0.182314  0.215701  0.099331   0.036882  1.000000   \n",
      "Smoker                    0.051736  0.096254  0.074937  -0.015102  0.025130   \n",
      "Stroke                    0.076313  0.112315  0.072637   0.021728  0.007706   \n",
      "HeartDiseaseorAttack      0.149599  0.183606  0.154224   0.040701  0.035201   \n",
      "PhysActivity             -0.113697 -0.100611 -0.051965   0.003910 -0.120989   \n",
      "Fruits                   -0.027479 -0.029285 -0.020113   0.026437 -0.093719   \n",
      "Veggies                  -0.041920 -0.027768 -0.024146   0.019724 -0.044632   \n",
      "HvyAlcoholConsump        -0.050747  0.002779 -0.009444  -0.025092 -0.024520   \n",
      "GenHlth                   0.252963  0.261732  0.168018   0.035091  0.234507   \n",
      "DiffWalk                  0.154373  0.160332  0.088737   0.034806  0.121944   \n",
      "Sex                       0.043960  0.071587  0.033058  -0.049089  0.078350   \n",
      "Age                       0.198457  0.352280  0.292805   0.100571 -0.019117   \n",
      "\n",
      "                        Smoker    Stroke  HeartDiseaseorAttack  PhysActivity  \\\n",
      "Diabetes_012          0.051736  0.076313              0.149599     -0.113697   \n",
      "HighBP                0.096254  0.112315              0.183606     -0.100611   \n",
      "HighChol              0.074937  0.072637              0.154224     -0.051965   \n",
      "CholCheck            -0.015102  0.021728              0.040701      0.003910   \n",
      "BMI                   0.025130  0.007706              0.035201     -0.120989   \n",
      "Smoker                1.000000  0.044177              0.097319     -0.069519   \n",
      "Stroke                0.044177  1.000000              0.140533     -0.050277   \n",
      "HeartDiseaseorAttack  0.097319  0.140533              1.000000     -0.056017   \n",
      "PhysActivity         -0.069519 -0.050277             -0.056017      1.000000   \n",
      "Fruits               -0.067704  0.000727             -0.005814      0.112455   \n",
      "Veggies              -0.009958 -0.019370             -0.017053      0.124161   \n",
      "HvyAlcoholConsump     0.102353 -0.010401             -0.024670      0.005684   \n",
      "GenHlth               0.128247  0.106482              0.184320     -0.186407   \n",
      "DiffWalk              0.079513  0.116020              0.134462     -0.184613   \n",
      "Sex                   0.084596  0.005395              0.090998      0.040159   \n",
      "Age                   0.135612  0.124322              0.215746     -0.103922   \n",
      "\n",
      "                        Fruits   Veggies  HvyAlcoholConsump   GenHlth  \\\n",
      "Diabetes_012         -0.027479 -0.041920          -0.050747  0.252963   \n",
      "HighBP               -0.029285 -0.027768           0.002779  0.261732   \n",
      "HighChol             -0.020113 -0.024146          -0.009444  0.168018   \n",
      "CholCheck             0.026437  0.019724          -0.025092  0.035091   \n",
      "BMI                  -0.093719 -0.044632          -0.024520  0.234507   \n",
      "Smoker               -0.067704 -0.009958           0.102353  0.128247   \n",
      "Stroke                0.000727 -0.019370          -0.010401  0.106482   \n",
      "HeartDiseaseorAttack -0.005814 -0.017053          -0.024670  0.184320   \n",
      "PhysActivity          0.112455  0.124161           0.005684 -0.186407   \n",
      "Fruits                1.000000  0.211002          -0.042336 -0.077581   \n",
      "Veggies               0.211002  1.000000           0.017277 -0.089042   \n",
      "HvyAlcoholConsump    -0.042336  0.017277           1.000000 -0.019704   \n",
      "GenHlth              -0.077581 -0.089042          -0.019704  1.000000   \n",
      "DiffWalk             -0.014791 -0.045555          -0.022518  0.247074   \n",
      "Sex                  -0.065397 -0.055065          -0.012389  0.021386   \n",
      "Age                   0.070713  0.010445          -0.039005  0.157368   \n",
      "\n",
      "                      DiffWalk       Sex       Age  \n",
      "Diabetes_012          0.154373  0.043960  0.198457  \n",
      "HighBP                0.160332  0.071587  0.352280  \n",
      "HighChol              0.088737  0.033058  0.292805  \n",
      "CholCheck             0.034806 -0.049089  0.100571  \n",
      "BMI                   0.121944  0.078350 -0.019117  \n",
      "Smoker                0.079513  0.084596  0.135612  \n",
      "Stroke                0.116020  0.005395  0.124322  \n",
      "HeartDiseaseorAttack  0.134462  0.090998  0.215746  \n",
      "PhysActivity         -0.184613  0.040159 -0.103922  \n",
      "Fruits               -0.014791 -0.065397  0.070713  \n",
      "Veggies              -0.045555 -0.055065  0.010445  \n",
      "HvyAlcoholConsump    -0.022518 -0.012389 -0.039005  \n",
      "GenHlth               0.247074  0.021386  0.157368  \n",
      "DiffWalk              1.000000 -0.049457  0.215844  \n",
      "Sex                  -0.049457  1.000000 -0.043513  \n",
      "Age                   0.215844 -0.043513  1.000000  \n"
     ]
    }
   ],
   "source": [
    "correlatie_2 = df_3.corr()\n",
    "print(correlatie_2)"
   ]
  },
  {
   "cell_type": "code",
   "execution_count": 16,
   "metadata": {},
   "outputs": [
    {
     "data": {
      "image/png": "[encoded data removed]",
      "text/plain": [
       "<Figure size 640x480 with 2 Axes>"
      ]
     },
     "metadata": {},
     "output_type": "display_data"
    }
   ],
   "source": [
    "sns.heatmap(correlatie_2, xticklabels=correlatie_2.columns, yticklabels=correlatie_2.columns, cmap=\"YlGnBu\")\n",
    "plt.show()"
   ]
  },
  {
   "cell_type": "markdown",
   "metadata": {},
   "source": [
    "### Data normaliseren:"
   ]
  },
  {
   "cell_type": "markdown",
   "metadata": {},
   "source": [
    "Het normaliseren van een dataset is een cruciale stap bij het voorbereiden van gegevens voor machine learning-modellen, vooral als je met numerieke variabelen werkt. Normalisatie zorgt ervoor dat de gegevens vergelijkbaar zijn in termen van schaal, waardoor de prestaties van het model kunnen verbeteren. Je kan hiervoor verschillende methoden gebruiken zoals:\n",
    "\n",
    "- Min-Max Normalisatie (Rescaling)\n",
    "- Z-Score Normalisatie (Standardization)\n",
    "- Robuuste Schaling (Robust Scaling)\n",
    "- De formule die we gaan gebruiken is: (waarde - gemiddelde)/standaardvariabele.\n",
    "\n",
    "In deze dataset hoeft alleen de variabelen 'BMI' en 'Age; genormaliseerd te worden"
   ]
  },
  {
   "cell_type": "code",
   "execution_count": 17,
   "metadata": {},
   "outputs": [
    {
     "name": "stdout",
     "output_type": "stream",
     "text": [
      "   Diabetes_012  HighBP  HighChol  CholCheck       BMI  Smoker  Stroke  \\\n",
      "1             2       1         0          1  0.008802       0       0   \n",
      "2             2       1         1          1  0.993953       0       0   \n",
      "4             0       0         0          1 -0.779318       1       0   \n",
      "7             2       0         0          1 -0.779318       0       0   \n",
      "8             0       1         1          1  0.402862       0       0   \n",
      "\n",
      "   HeartDiseaseorAttack  PhysActivity  Fruits  Veggies  HvyAlcoholConsump  \\\n",
      "1                     1             0       1        0                  0   \n",
      "2                     0             1       1        1                  0   \n",
      "4                     0             0       0        0                  0   \n",
      "7                     1             0       0        1                  0   \n",
      "8                     0             0       1        1                  0   \n",
      "\n",
      "   GenHlth  DiffWalk  Sex       Age  \n",
      "1        2         0    0  0.950474  \n",
      "2        2         0    0  0.331281  \n",
      "4        3         1    1  1.569666  \n",
      "7        4         0    1  1.260070  \n",
      "8        2         0    0 -0.287912  \n"
     ]
    }
   ],
   "source": [
    "columns_normaliseren = ['BMI', 'Age']\n",
    "for columns in columns_normaliseren:\n",
    "  gemiddelde = df_3[columns].mean()\n",
    "  std = df_3[columns].std()\n",
    "  df_3[columns] = (df_3[columns] - gemiddelde) / std\n",
    "\n",
    "print(df_3.head(5))"
   ]
  },
  {
   "cell_type": "code",
   "execution_count": 18,
   "metadata": {},
   "outputs": [
    {
     "name": "stdout",
     "output_type": "stream",
     "text": [
      "   Diabetes_012  HighBP  HighChol  CholCheck       BMI  Smoker  Stroke  \\\n",
      "1             2       1         0          1  0.008802       0       0   \n",
      "2             2       1         1          1  0.993953       0       0   \n",
      "4             0       0         0          1 -0.779318       1       0   \n",
      "7             2       0         0          1 -0.779318       0       0   \n",
      "8             0       1         1          1  0.402862       0       0   \n",
      "\n",
      "   HeartDiseaseorAttack  PhysActivity  Fruits  Veggies  HvyAlcoholConsump  \\\n",
      "1                     1             0       1        0                  0   \n",
      "2                     0             1       1        1                  0   \n",
      "4                     0             0       0        0                  0   \n",
      "7                     1             0       0        1                  0   \n",
      "8                     0             0       1        1                  0   \n",
      "\n",
      "   GenHlth  DiffWalk  Sex       Age  \n",
      "1        2         0    0  0.950474  \n",
      "2        2         0    0  0.331281  \n",
      "4        3         1    1  1.569666  \n",
      "7        4         0    1  1.260070  \n",
      "8        2         0    0 -0.287912  \n"
     ]
    }
   ],
   "source": [
    "df_def = df_3\n",
    "print(df_def.head())"
   ]
  },
  {
   "cell_type": "markdown",
   "metadata": {},
   "source": [
    "## Dummificeren:"
   ]
  },
  {
   "cell_type": "markdown",
   "metadata": {},
   "source": [
    "Het dummificeren van onze dataset helpt ons met het omzetten van categorische variabelen in een vorm die gemakkelijker door machine learning-modellen kan worden begrepen en verwerkt. Computers begrijpen getallen beter dan woorden of andere manier van informatie. Dus, om onze AI-model te helpen, veranderd we deze informatie in getallen."
   ]
  },
  {
   "cell_type": "code",
   "execution_count": 19,
   "metadata": {},
   "outputs": [
    {
     "data": {
      "text/html": [
       "<div>\n",
       "<style scoped>\n",
       "    .dataframe tbody tr th:only-of-type {\n",
       "        vertical-align: middle;\n",
       "    }\n",
       "\n",
       "    .dataframe tbody tr th {\n",
       "        vertical-align: top;\n",
       "    }\n",
       "\n",
       "    .dataframe thead th {\n",
       "        text-align: right;\n",
       "    }\n",
       "</style>\n",
       "<table border=\"1\" class=\"dataframe\">\n",
       "  <thead>\n",
       "    <tr style=\"text-align: right;\">\n",
       "      <th></th>\n",
       "      <th>Diabetes_012</th>\n",
       "      <th>BMI</th>\n",
       "      <th>Age</th>\n",
       "      <th>HighBP_0</th>\n",
       "      <th>HighBP_1</th>\n",
       "      <th>HighChol_0</th>\n",
       "      <th>HighChol_1</th>\n",
       "      <th>CholCheck_0</th>\n",
       "      <th>CholCheck_1</th>\n",
       "      <th>Smoker_0</th>\n",
       "      <th>...</th>\n",
       "      <th>HvyAlcoholConsump_1</th>\n",
       "      <th>GenHlth_1</th>\n",
       "      <th>GenHlth_2</th>\n",
       "      <th>GenHlth_3</th>\n",
       "      <th>GenHlth_4</th>\n",
       "      <th>GenHlth_5</th>\n",
       "      <th>DiffWalk_0</th>\n",
       "      <th>DiffWalk_1</th>\n",
       "      <th>Sex_0</th>\n",
       "      <th>Sex_1</th>\n",
       "    </tr>\n",
       "  </thead>\n",
       "  <tbody>\n",
       "    <tr>\n",
       "      <th>1</th>\n",
       "      <td>2</td>\n",
       "      <td>0.008802</td>\n",
       "      <td>0.950474</td>\n",
       "      <td>False</td>\n",
       "      <td>True</td>\n",
       "      <td>True</td>\n",
       "      <td>False</td>\n",
       "      <td>False</td>\n",
       "      <td>True</td>\n",
       "      <td>True</td>\n",
       "      <td>...</td>\n",
       "      <td>False</td>\n",
       "      <td>False</td>\n",
       "      <td>True</td>\n",
       "      <td>False</td>\n",
       "      <td>False</td>\n",
       "      <td>False</td>\n",
       "      <td>True</td>\n",
       "      <td>False</td>\n",
       "      <td>True</td>\n",
       "      <td>False</td>\n",
       "    </tr>\n",
       "    <tr>\n",
       "      <th>2</th>\n",
       "      <td>2</td>\n",
       "      <td>0.993953</td>\n",
       "      <td>0.331281</td>\n",
       "      <td>False</td>\n",
       "      <td>True</td>\n",
       "      <td>False</td>\n",
       "      <td>True</td>\n",
       "      <td>False</td>\n",
       "      <td>True</td>\n",
       "      <td>True</td>\n",
       "      <td>...</td>\n",
       "      <td>False</td>\n",
       "      <td>False</td>\n",
       "      <td>True</td>\n",
       "      <td>False</td>\n",
       "      <td>False</td>\n",
       "      <td>False</td>\n",
       "      <td>True</td>\n",
       "      <td>False</td>\n",
       "      <td>True</td>\n",
       "      <td>False</td>\n",
       "    </tr>\n",
       "    <tr>\n",
       "      <th>4</th>\n",
       "      <td>0</td>\n",
       "      <td>-0.779318</td>\n",
       "      <td>1.569666</td>\n",
       "      <td>True</td>\n",
       "      <td>False</td>\n",
       "      <td>True</td>\n",
       "      <td>False</td>\n",
       "      <td>False</td>\n",
       "      <td>True</td>\n",
       "      <td>False</td>\n",
       "      <td>...</td>\n",
       "      <td>False</td>\n",
       "      <td>False</td>\n",
       "      <td>False</td>\n",
       "      <td>True</td>\n",
       "      <td>False</td>\n",
       "      <td>False</td>\n",
       "      <td>False</td>\n",
       "      <td>True</td>\n",
       "      <td>False</td>\n",
       "      <td>True</td>\n",
       "    </tr>\n",
       "    <tr>\n",
       "      <th>7</th>\n",
       "      <td>2</td>\n",
       "      <td>-0.779318</td>\n",
       "      <td>1.260070</td>\n",
       "      <td>True</td>\n",
       "      <td>False</td>\n",
       "      <td>True</td>\n",
       "      <td>False</td>\n",
       "      <td>False</td>\n",
       "      <td>True</td>\n",
       "      <td>True</td>\n",
       "      <td>...</td>\n",
       "      <td>False</td>\n",
       "      <td>False</td>\n",
       "      <td>False</td>\n",
       "      <td>False</td>\n",
       "      <td>True</td>\n",
       "      <td>False</td>\n",
       "      <td>True</td>\n",
       "      <td>False</td>\n",
       "      <td>False</td>\n",
       "      <td>True</td>\n",
       "    </tr>\n",
       "    <tr>\n",
       "      <th>8</th>\n",
       "      <td>0</td>\n",
       "      <td>0.402862</td>\n",
       "      <td>-0.287912</td>\n",
       "      <td>False</td>\n",
       "      <td>True</td>\n",
       "      <td>False</td>\n",
       "      <td>True</td>\n",
       "      <td>False</td>\n",
       "      <td>True</td>\n",
       "      <td>True</td>\n",
       "      <td>...</td>\n",
       "      <td>False</td>\n",
       "      <td>False</td>\n",
       "      <td>True</td>\n",
       "      <td>False</td>\n",
       "      <td>False</td>\n",
       "      <td>False</td>\n",
       "      <td>True</td>\n",
       "      <td>False</td>\n",
       "      <td>True</td>\n",
       "      <td>False</td>\n",
       "    </tr>\n",
       "    <tr>\n",
       "      <th>9</th>\n",
       "      <td>0</td>\n",
       "      <td>1.585043</td>\n",
       "      <td>0.640877</td>\n",
       "      <td>False</td>\n",
       "      <td>True</td>\n",
       "      <td>False</td>\n",
       "      <td>True</td>\n",
       "      <td>False</td>\n",
       "      <td>True</td>\n",
       "      <td>False</td>\n",
       "      <td>...</td>\n",
       "      <td>False</td>\n",
       "      <td>False</td>\n",
       "      <td>False</td>\n",
       "      <td>False</td>\n",
       "      <td>True</td>\n",
       "      <td>False</td>\n",
       "      <td>True</td>\n",
       "      <td>False</td>\n",
       "      <td>False</td>\n",
       "      <td>True</td>\n",
       "    </tr>\n",
       "    <tr>\n",
       "      <th>10</th>\n",
       "      <td>2</td>\n",
       "      <td>0.993953</td>\n",
       "      <td>-0.597508</td>\n",
       "      <td>True</td>\n",
       "      <td>False</td>\n",
       "      <td>True</td>\n",
       "      <td>False</td>\n",
       "      <td>False</td>\n",
       "      <td>True</td>\n",
       "      <td>False</td>\n",
       "      <td>...</td>\n",
       "      <td>False</td>\n",
       "      <td>False</td>\n",
       "      <td>False</td>\n",
       "      <td>False</td>\n",
       "      <td>True</td>\n",
       "      <td>False</td>\n",
       "      <td>True</td>\n",
       "      <td>False</td>\n",
       "      <td>False</td>\n",
       "      <td>True</td>\n",
       "    </tr>\n",
       "    <tr>\n",
       "      <th>11</th>\n",
       "      <td>2</td>\n",
       "      <td>0.402862</td>\n",
       "      <td>0.950474</td>\n",
       "      <td>False</td>\n",
       "      <td>True</td>\n",
       "      <td>False</td>\n",
       "      <td>True</td>\n",
       "      <td>False</td>\n",
       "      <td>True</td>\n",
       "      <td>True</td>\n",
       "      <td>...</td>\n",
       "      <td>False</td>\n",
       "      <td>False</td>\n",
       "      <td>False</td>\n",
       "      <td>True</td>\n",
       "      <td>False</td>\n",
       "      <td>False</td>\n",
       "      <td>True</td>\n",
       "      <td>False</td>\n",
       "      <td>True</td>\n",
       "      <td>False</td>\n",
       "    </tr>\n",
       "    <tr>\n",
       "      <th>14</th>\n",
       "      <td>0</td>\n",
       "      <td>-0.188228</td>\n",
       "      <td>1.569666</td>\n",
       "      <td>False</td>\n",
       "      <td>True</td>\n",
       "      <td>False</td>\n",
       "      <td>True</td>\n",
       "      <td>False</td>\n",
       "      <td>True</td>\n",
       "      <td>False</td>\n",
       "      <td>...</td>\n",
       "      <td>False</td>\n",
       "      <td>False</td>\n",
       "      <td>False</td>\n",
       "      <td>True</td>\n",
       "      <td>False</td>\n",
       "      <td>False</td>\n",
       "      <td>False</td>\n",
       "      <td>True</td>\n",
       "      <td>True</td>\n",
       "      <td>False</td>\n",
       "    </tr>\n",
       "    <tr>\n",
       "      <th>15</th>\n",
       "      <td>0</td>\n",
       "      <td>1.388013</td>\n",
       "      <td>0.950474</td>\n",
       "      <td>False</td>\n",
       "      <td>True</td>\n",
       "      <td>False</td>\n",
       "      <td>True</td>\n",
       "      <td>False</td>\n",
       "      <td>True</td>\n",
       "      <td>False</td>\n",
       "      <td>...</td>\n",
       "      <td>False</td>\n",
       "      <td>False</td>\n",
       "      <td>False</td>\n",
       "      <td>True</td>\n",
       "      <td>False</td>\n",
       "      <td>False</td>\n",
       "      <td>True</td>\n",
       "      <td>False</td>\n",
       "      <td>True</td>\n",
       "      <td>False</td>\n",
       "    </tr>\n",
       "  </tbody>\n",
       "</table>\n",
       "<p>10 rows × 32 columns</p>\n",
       "</div>"
      ],
      "text/plain": [
       "    Diabetes_012       BMI       Age  HighBP_0  HighBP_1  HighChol_0  \\\n",
       "1              2  0.008802  0.950474     False      True        True   \n",
       "2              2  0.993953  0.331281     False      True       False   \n",
       "4              0 -0.779318  1.569666      True     False        True   \n",
       "7              2 -0.779318  1.260070      True     False        True   \n",
       "8              0  0.402862 -0.287912     False      True       False   \n",
       "9              0  1.585043  0.640877     False      True       False   \n",
       "10             2  0.993953 -0.597508      True     False        True   \n",
       "11             2  0.402862  0.950474     False      True       False   \n",
       "14             0 -0.188228  1.569666     False      True       False   \n",
       "15             0  1.388013  0.950474     False      True       False   \n",
       "\n",
       "    HighChol_1  CholCheck_0  CholCheck_1  Smoker_0  ...  HvyAlcoholConsump_1  \\\n",
       "1        False        False         True      True  ...                False   \n",
       "2         True        False         True      True  ...                False   \n",
       "4        False        False         True     False  ...                False   \n",
       "7        False        False         True      True  ...                False   \n",
       "8         True        False         True      True  ...                False   \n",
       "9         True        False         True     False  ...                False   \n",
       "10       False        False         True     False  ...                False   \n",
       "11        True        False         True      True  ...                False   \n",
       "14        True        False         True     False  ...                False   \n",
       "15        True        False         True     False  ...                False   \n",
       "\n",
       "    GenHlth_1  GenHlth_2  GenHlth_3  GenHlth_4  GenHlth_5  DiffWalk_0  \\\n",
       "1       False       True      False      False      False        True   \n",
       "2       False       True      False      False      False        True   \n",
       "4       False      False       True      False      False       False   \n",
       "7       False      False      False       True      False        True   \n",
       "8       False       True      False      False      False        True   \n",
       "9       False      False      False       True      False        True   \n",
       "10      False      False      False       True      False        True   \n",
       "11      False      False       True      False      False        True   \n",
       "14      False      False       True      False      False       False   \n",
       "15      False      False       True      False      False        True   \n",
       "\n",
       "    DiffWalk_1  Sex_0  Sex_1  \n",
       "1        False   True  False  \n",
       "2        False   True  False  \n",
       "4         True  False   True  \n",
       "7        False  False   True  \n",
       "8        False   True  False  \n",
       "9        False  False   True  \n",
       "10       False  False   True  \n",
       "11       False   True  False  \n",
       "14        True   True  False  \n",
       "15       False   True  False  \n",
       "\n",
       "[10 rows x 32 columns]"
      ]
     },
     "execution_count": 19,
     "metadata": {},
     "output_type": "execute_result"
    }
   ],
   "source": [
    "df_def_dum = pd.get_dummies(df_def, columns=['HighBP', 'HighChol', 'CholCheck', 'Smoker', 'Stroke', 'HeartDiseaseorAttack', 'PhysActivity', 'Fruits', 'Veggies', 'HvyAlcoholConsump', 'GenHlth', 'DiffWalk', 'Sex'])\n",
    "df_def_dum.head(10)"
   ]
  },
  {
   "cell_type": "markdown",
   "metadata": {},
   "source": [
    "## Model maken en evalueren"
   ]
  },
  {
   "cell_type": "markdown",
   "metadata": {},
   "source": [
    "### Classificatie AI-model"
   ]
  },
  {
   "cell_type": "markdown",
   "metadata": {},
   "source": [
    "Classificatie is een techniek binnen machine learning en statistiek waarbij het doel is om gegevenspunten in verschillende categorieën of klassen te plaatsen op basis van hun kenmerken. Het is een vorm van supervisie, waarbij het algoritme wordt getraind op een gelabelde dataset waarin elk gegevenspunt is toegewezen aan een bepaalde klasse. Het doel van het getrainde model is om nieuwe, niet-gelabelde gegevenspunten correct te classificeren in een van de bekende klassen.\n",
    "\n",
    "Bij classificatiealgoritmen wordt gebruikgemaakt van kenmerken (features) van de gegevenspunten om voorspellingen te doen over de klasse waartoe ze behoren. Enkele veelgebruikte classificatiealgoritmen zijn logistische regressie, beslissingsbomen, random forests, ondersteunende vectormachines (SVM) en neurale netwerken.\n",
    "\n",
    "Classificatie wordt veel toegepast in verschillende domeinen, zoals spamdetectie in e-mails, medische diagnose, beeldherkenning, financiële fraude-detectie en vele andere toepassingen waarbij het noodzakelijk is om gegevens in verschillende categorieën in te delen."
   ]
  },
  {
   "cell_type": "markdown",
   "metadata": {},
   "source": [
    "## KNN Classifier"
   ]
  },
  {
   "cell_type": "markdown",
   "metadata": {},
   "source": [
    "### Data splitten in een train en test set"
   ]
  },
  {
   "cell_type": "markdown",
   "metadata": {},
   "source": [
    "- X = Features (onafhankelijke variabele)\n",
    "\n",
    "Deze variabelen zijn de invoer of features die worden gebruikt om voorspellingen te doen, patronen te identificeren, of een relatie te modelleren. Ze worden gebruikt om het gedrag van de afhankelijke variabele te voorspellen.\n",
    "\n",
    "- y = Doelvariabele (afhankelijke variabele)\n",
    "\n",
    "Deze variabele is het resultaat of de uitkomst die we proberen te voorspellen of te begrijpen op basis van de onafhankelijke variabelen. Het is het antwoord of de reactie op de veranderingen in de X-variabelen.\n",
    "\n",
    "- test_size = het percentage gegevens wat naar de testset gaat\n",
    "- random_state = wat betekent dat de splitsing reproduceerbaar is (dezelfde splitsing wordt verkregen als je dezelfde random_state gebruikt)"
   ]
  },
  {
   "cell_type": "code",
   "execution_count": 20,
   "metadata": {},
   "outputs": [
    {
     "data": {
      "text/html": [
       "<div>\n",
       "<style scoped>\n",
       "    .dataframe tbody tr th:only-of-type {\n",
       "        vertical-align: middle;\n",
       "    }\n",
       "\n",
       "    .dataframe tbody tr th {\n",
       "        vertical-align: top;\n",
       "    }\n",
       "\n",
       "    .dataframe thead th {\n",
       "        text-align: right;\n",
       "    }\n",
       "</style>\n",
       "<table border=\"1\" class=\"dataframe\">\n",
       "  <thead>\n",
       "    <tr style=\"text-align: right;\">\n",
       "      <th></th>\n",
       "      <th>BMI</th>\n",
       "      <th>Age</th>\n",
       "      <th>HighBP_0</th>\n",
       "      <th>HighBP_1</th>\n",
       "      <th>HighChol_0</th>\n",
       "      <th>HighChol_1</th>\n",
       "      <th>CholCheck_0</th>\n",
       "      <th>CholCheck_1</th>\n",
       "      <th>Smoker_0</th>\n",
       "      <th>Smoker_1</th>\n",
       "      <th>...</th>\n",
       "      <th>HvyAlcoholConsump_1</th>\n",
       "      <th>GenHlth_1</th>\n",
       "      <th>GenHlth_2</th>\n",
       "      <th>GenHlth_3</th>\n",
       "      <th>GenHlth_4</th>\n",
       "      <th>GenHlth_5</th>\n",
       "      <th>DiffWalk_0</th>\n",
       "      <th>DiffWalk_1</th>\n",
       "      <th>Sex_0</th>\n",
       "      <th>Sex_1</th>\n",
       "    </tr>\n",
       "  </thead>\n",
       "  <tbody>\n",
       "    <tr>\n",
       "      <th>10319</th>\n",
       "      <td>2.176133</td>\n",
       "      <td>0.950474</td>\n",
       "      <td>False</td>\n",
       "      <td>True</td>\n",
       "      <td>False</td>\n",
       "      <td>True</td>\n",
       "      <td>True</td>\n",
       "      <td>False</td>\n",
       "      <td>False</td>\n",
       "      <td>True</td>\n",
       "      <td>...</td>\n",
       "      <td>False</td>\n",
       "      <td>False</td>\n",
       "      <td>False</td>\n",
       "      <td>False</td>\n",
       "      <td>False</td>\n",
       "      <td>True</td>\n",
       "      <td>False</td>\n",
       "      <td>True</td>\n",
       "      <td>False</td>\n",
       "      <td>True</td>\n",
       "    </tr>\n",
       "    <tr>\n",
       "      <th>133991</th>\n",
       "      <td>-0.582288</td>\n",
       "      <td>-2.145490</td>\n",
       "      <td>True</td>\n",
       "      <td>False</td>\n",
       "      <td>True</td>\n",
       "      <td>False</td>\n",
       "      <td>False</td>\n",
       "      <td>True</td>\n",
       "      <td>True</td>\n",
       "      <td>False</td>\n",
       "      <td>...</td>\n",
       "      <td>False</td>\n",
       "      <td>True</td>\n",
       "      <td>False</td>\n",
       "      <td>False</td>\n",
       "      <td>False</td>\n",
       "      <td>False</td>\n",
       "      <td>True</td>\n",
       "      <td>False</td>\n",
       "      <td>False</td>\n",
       "      <td>True</td>\n",
       "    </tr>\n",
       "    <tr>\n",
       "      <th>41744</th>\n",
       "      <td>0.599892</td>\n",
       "      <td>0.331281</td>\n",
       "      <td>True</td>\n",
       "      <td>False</td>\n",
       "      <td>True</td>\n",
       "      <td>False</td>\n",
       "      <td>False</td>\n",
       "      <td>True</td>\n",
       "      <td>True</td>\n",
       "      <td>False</td>\n",
       "      <td>...</td>\n",
       "      <td>False</td>\n",
       "      <td>False</td>\n",
       "      <td>True</td>\n",
       "      <td>False</td>\n",
       "      <td>False</td>\n",
       "      <td>False</td>\n",
       "      <td>True</td>\n",
       "      <td>False</td>\n",
       "      <td>True</td>\n",
       "      <td>False</td>\n",
       "    </tr>\n",
       "    <tr>\n",
       "      <th>172319</th>\n",
       "      <td>2.176133</td>\n",
       "      <td>-0.907105</td>\n",
       "      <td>False</td>\n",
       "      <td>True</td>\n",
       "      <td>True</td>\n",
       "      <td>False</td>\n",
       "      <td>False</td>\n",
       "      <td>True</td>\n",
       "      <td>True</td>\n",
       "      <td>False</td>\n",
       "      <td>...</td>\n",
       "      <td>False</td>\n",
       "      <td>False</td>\n",
       "      <td>True</td>\n",
       "      <td>False</td>\n",
       "      <td>False</td>\n",
       "      <td>False</td>\n",
       "      <td>True</td>\n",
       "      <td>False</td>\n",
       "      <td>True</td>\n",
       "      <td>False</td>\n",
       "    </tr>\n",
       "    <tr>\n",
       "      <th>8305</th>\n",
       "      <td>-0.582288</td>\n",
       "      <td>0.331281</td>\n",
       "      <td>True</td>\n",
       "      <td>False</td>\n",
       "      <td>True</td>\n",
       "      <td>False</td>\n",
       "      <td>False</td>\n",
       "      <td>True</td>\n",
       "      <td>True</td>\n",
       "      <td>False</td>\n",
       "      <td>...</td>\n",
       "      <td>False</td>\n",
       "      <td>True</td>\n",
       "      <td>False</td>\n",
       "      <td>False</td>\n",
       "      <td>False</td>\n",
       "      <td>False</td>\n",
       "      <td>True</td>\n",
       "      <td>False</td>\n",
       "      <td>True</td>\n",
       "      <td>False</td>\n",
       "    </tr>\n",
       "  </tbody>\n",
       "</table>\n",
       "<p>5 rows × 31 columns</p>\n",
       "</div>"
      ],
      "text/plain": [
       "             BMI       Age  HighBP_0  HighBP_1  HighChol_0  HighChol_1  \\\n",
       "10319   2.176133  0.950474     False      True       False        True   \n",
       "133991 -0.582288 -2.145490      True     False        True       False   \n",
       "41744   0.599892  0.331281      True     False        True       False   \n",
       "172319  2.176133 -0.907105     False      True        True       False   \n",
       "8305   -0.582288  0.331281      True     False        True       False   \n",
       "\n",
       "        CholCheck_0  CholCheck_1  Smoker_0  Smoker_1  ...  \\\n",
       "10319          True        False     False      True  ...   \n",
       "133991        False         True      True     False  ...   \n",
       "41744         False         True      True     False  ...   \n",
       "172319        False         True      True     False  ...   \n",
       "8305          False         True      True     False  ...   \n",
       "\n",
       "        HvyAlcoholConsump_1  GenHlth_1  GenHlth_2  GenHlth_3  GenHlth_4  \\\n",
       "10319                 False      False      False      False      False   \n",
       "133991                False       True      False      False      False   \n",
       "41744                 False      False       True      False      False   \n",
       "172319                False      False       True      False      False   \n",
       "8305                  False       True      False      False      False   \n",
       "\n",
       "        GenHlth_5  DiffWalk_0  DiffWalk_1  Sex_0  Sex_1  \n",
       "10319        True       False        True  False   True  \n",
       "133991      False        True       False  False   True  \n",
       "41744       False        True       False   True  False  \n",
       "172319      False        True       False   True  False  \n",
       "8305        False        True       False   True  False  \n",
       "\n",
       "[5 rows x 31 columns]"
      ]
     },
     "execution_count": 20,
     "metadata": {},
     "output_type": "execute_result"
    }
   ],
   "source": [
    "from sklearn.model_selection import train_test_split\n",
    "from sklearn.neighbors import KNeighborsClassifier\n",
    "\n",
    "X = df_def_dum.drop(columns=['Diabetes_012'])\n",
    "y = df_def_dum['Diabetes_012']\n",
    "\n",
    "X_train, X_test, y_train, y_test = train_test_split(X, y, test_size=0.25, random_state=42) #split de dataset, en bewaar het in verschillende variabelen\n",
    "\n",
    "X_train.head(5)"
   ]
  },
  {
   "cell_type": "markdown",
   "metadata": {},
   "source": [
    "### GridSearch CV"
   ]
  },
  {
   "cell_type": "markdown",
   "metadata": {},
   "source": [
    "\n",
    "GridSearchCV is een techniek voor het vinden van optimale parameters uit een gegeven set van parameters in een code. Het een cross-validatietechniek. Zowel het model als de parameters moeten worden ingevoerd. Na de beste parameters worden gevonden, worden er voorspellingen met deze parameters gedaan."
   ]
  },
  {
   "cell_type": "code",
   "execution_count": 21,
   "metadata": {},
   "outputs": [
    {
     "name": "stdout",
     "output_type": "stream",
     "text": [
      "Fitting 5 folds for each of 9 candidates, totalling 45 fits\n"
     ]
    },
    {
     "data": {
      "text/html": [
       "<style>#sk-container-id-1 {color: black;}#sk-container-id-1 pre{padding: 0;}#sk-container-id-1 div.sk-toggleable {background-color: white;}#sk-container-id-1 label.sk-toggleable__label {cursor: pointer;display: block;width: 100%;margin-bottom: 0;padding: 0.3em;box-sizing: border-box;text-align: center;}#sk-container-id-1 label.sk-toggleable__label-arrow:before {content: \"▸\";float: left;margin-right: 0.25em;color: #696969;}#sk-container-id-1 label.sk-toggleable__label-arrow:hover:before {color: black;}#sk-container-id-1 div.sk-estimator:hover label.sk-toggleable__label-arrow:before {color: black;}#sk-container-id-1 div.sk-toggleable__content {max-height: 0;max-width: 0;overflow: hidden;text-align: left;background-color: #f0f8ff;}#sk-container-id-1 div.sk-toggleable__content pre {margin: 0.2em;color: black;border-radius: 0.25em;background-color: #f0f8ff;}#sk-container-id-1 input.sk-toggleable__control:checked~div.sk-toggleable__content {max-height: 200px;max-width: 100%;overflow: auto;}#sk-container-id-1 input.sk-toggleable__control:checked~label.sk-toggleable__label-arrow:before {content: \"▾\";}#sk-container-id-1 div.sk-estimator input.sk-toggleable__control:checked~label.sk-toggleable__label {background-color: #d4ebff;}#sk-container-id-1 div.sk-label input.sk-toggleable__control:checked~label.sk-toggleable__label {background-color: #d4ebff;}#sk-container-id-1 input.sk-hidden--visually {border: 0;clip: rect(1px 1px 1px 1px);clip: rect(1px, 1px, 1px, 1px);height: 1px;margin: -1px;overflow: hidden;padding: 0;position: absolute;width: 1px;}#sk-container-id-1 div.sk-estimator {font-family: monospace;background-color: #f0f8ff;border: 1px dotted black;border-radius: 0.25em;box-sizing: border-box;margin-bottom: 0.5em;}#sk-container-id-1 div.sk-estimator:hover {background-color: #d4ebff;}#sk-container-id-1 div.sk-parallel-item::after {content: \"\";width: 100%;border-bottom: 1px solid gray;flex-grow: 1;}#sk-container-id-1 div.sk-label:hover label.sk-toggleable__label {background-color: #d4ebff;}#sk-container-id-1 div.sk-serial::before {content: \"\";position: absolute;border-left: 1px solid gray;box-sizing: border-box;top: 0;bottom: 0;left: 50%;z-index: 0;}#sk-container-id-1 div.sk-serial {display: flex;flex-direction: column;align-items: center;background-color: white;padding-right: 0.2em;padding-left: 0.2em;position: relative;}#sk-container-id-1 div.sk-item {position: relative;z-index: 1;}#sk-container-id-1 div.sk-parallel {display: flex;align-items: stretch;justify-content: center;background-color: white;position: relative;}#sk-container-id-1 div.sk-item::before, #sk-container-id-1 div.sk-parallel-item::before {content: \"\";position: absolute;border-left: 1px solid gray;box-sizing: border-box;top: 0;bottom: 0;left: 50%;z-index: -1;}#sk-container-id-1 div.sk-parallel-item {display: flex;flex-direction: column;z-index: 1;position: relative;background-color: white;}#sk-container-id-1 div.sk-parallel-item:first-child::after {align-self: flex-end;width: 50%;}#sk-container-id-1 div.sk-parallel-item:last-child::after {align-self: flex-start;width: 50%;}#sk-container-id-1 div.sk-parallel-item:only-child::after {width: 0;}#sk-container-id-1 div.sk-dashed-wrapped {border: 1px dashed gray;margin: 0 0.4em 0.5em 0.4em;box-sizing: border-box;padding-bottom: 0.4em;background-color: white;}#sk-container-id-1 div.sk-label label {font-family: monospace;font-weight: bold;display: inline-block;line-height: 1.2em;}#sk-container-id-1 div.sk-label-container {text-align: center;}#sk-container-id-1 div.sk-container {/* jupyter's `normalize.less` sets `[hidden] { display: none; }` but bootstrap.min.css set `[hidden] { display: none !important; }` so we also need the `!important` here to be able to override the default hidden behavior on the sphinx rendered scikit-learn.org. See: https://github.com/scikit-learn/scikit-learn/issues/21755 */display: inline-block !important;position: relative;}#sk-container-id-1 div.sk-text-repr-fallback {display: none;}</style><div id=\"sk-container-id-1\" class=\"sk-top-container\"><div class=\"sk-text-repr-fallback\"><pre>GridSearchCV(cv=5, estimator=KNeighborsClassifier(),\n",
       "             param_grid={&#x27;n_neighbors&#x27;: array([1, 2, 3, 4, 5, 6, 7, 8, 9])},\n",
       "             verbose=1)</pre><b>In a Jupyter environment, please rerun this cell to show the HTML representation or trust the notebook. <br />On GitHub, the HTML representation is unable to render, please try loading this page with nbviewer.org.</b></div><div class=\"sk-container\" hidden><div class=\"sk-item sk-dashed-wrapped\"><div class=\"sk-label-container\"><div class=\"sk-label sk-toggleable\"><input class=\"sk-toggleable__control sk-hidden--visually\" id=\"sk-estimator-id-1\" type=\"checkbox\" ><label for=\"sk-estimator-id-1\" class=\"sk-toggleable__label sk-toggleable__label-arrow\">GridSearchCV</label><div class=\"sk-toggleable__content\"><pre>GridSearchCV(cv=5, estimator=KNeighborsClassifier(),\n",
       "             param_grid={&#x27;n_neighbors&#x27;: array([1, 2, 3, 4, 5, 6, 7, 8, 9])},\n",
       "             verbose=1)</pre></div></div></div><div class=\"sk-parallel\"><div class=\"sk-parallel-item\"><div class=\"sk-item\"><div class=\"sk-label-container\"><div class=\"sk-label sk-toggleable\"><input class=\"sk-toggleable__control sk-hidden--visually\" id=\"sk-estimator-id-2\" type=\"checkbox\" ><label for=\"sk-estimator-id-2\" class=\"sk-toggleable__label sk-toggleable__label-arrow\">estimator: KNeighborsClassifier</label><div class=\"sk-toggleable__content\"><pre>KNeighborsClassifier()</pre></div></div></div><div class=\"sk-serial\"><div class=\"sk-item\"><div class=\"sk-estimator sk-toggleable\"><input class=\"sk-toggleable__control sk-hidden--visually\" id=\"sk-estimator-id-3\" type=\"checkbox\" ><label for=\"sk-estimator-id-3\" class=\"sk-toggleable__label sk-toggleable__label-arrow\">KNeighborsClassifier</label><div class=\"sk-toggleable__content\"><pre>KNeighborsClassifier()</pre></div></div></div></div></div></div></div></div></div></div>"
      ],
      "text/plain": [
       "GridSearchCV(cv=5, estimator=KNeighborsClassifier(),\n",
       "             param_grid={'n_neighbors': array([1, 2, 3, 4, 5, 6, 7, 8, 9])},\n",
       "             verbose=1)"
      ]
     },
     "execution_count": 21,
     "metadata": {},
     "output_type": "execute_result"
    }
   ],
   "source": [
    "from sklearn.model_selection import GridSearchCV\n",
    "grid_search = GridSearchCV(estimator=KNeighborsClassifier(), param_grid={'n_neighbors':np.arange(1,10)}, cv=5,verbose=1)\n",
    "grid_search.fit(X_train, y_train)"
   ]
  },
  {
   "cell_type": "code",
   "execution_count": 22,
   "metadata": {},
   "outputs": [
    {
     "name": "stdout",
     "output_type": "stream",
     "text": [
      "Best Parameters: {'n_neighbors': 8}\n"
     ]
    }
   ],
   "source": [
    "# Laat zien de beste \"parameters\"\n",
    "print(\"Best Parameters:\", grid_search.best_params_)\n",
    "\n",
    "# Gebruik de beste \"estimator\" om resultaten te voorspellen\n",
    "best_knn = grid_search.best_estimator_\n"
   ]
  },
  {
   "cell_type": "code",
   "execution_count": 23,
   "metadata": {},
   "outputs": [
    {
     "data": {
      "text/html": [
       "<div>\n",
       "<style scoped>\n",
       "    .dataframe tbody tr th:only-of-type {\n",
       "        vertical-align: middle;\n",
       "    }\n",
       "\n",
       "    .dataframe tbody tr th {\n",
       "        vertical-align: top;\n",
       "    }\n",
       "\n",
       "    .dataframe thead th {\n",
       "        text-align: right;\n",
       "    }\n",
       "</style>\n",
       "<table border=\"1\" class=\"dataframe\">\n",
       "  <thead>\n",
       "    <tr style=\"text-align: right;\">\n",
       "      <th></th>\n",
       "      <th>Geen Diabetes(Predicted)</th>\n",
       "      <th>Pre-diabetes (Predicted)</th>\n",
       "      <th>Diabetes(Predicted)</th>\n",
       "    </tr>\n",
       "  </thead>\n",
       "  <tbody>\n",
       "    <tr>\n",
       "      <th>Geen Diabetes(actual)</th>\n",
       "      <td>37186</td>\n",
       "      <td>6</td>\n",
       "      <td>723</td>\n",
       "    </tr>\n",
       "    <tr>\n",
       "      <th>Pre-diabetes (actual)</th>\n",
       "      <td>892</td>\n",
       "      <td>2</td>\n",
       "      <td>53</td>\n",
       "    </tr>\n",
       "    <tr>\n",
       "      <th>Diabetes(actual)</th>\n",
       "      <td>4506</td>\n",
       "      <td>3</td>\n",
       "      <td>547</td>\n",
       "    </tr>\n",
       "  </tbody>\n",
       "</table>\n",
       "</div>"
      ],
      "text/plain": [
       "                       Geen Diabetes(Predicted)  Pre-diabetes (Predicted)  \\\n",
       "Geen Diabetes(actual)                     37186                         6   \n",
       "Pre-diabetes (actual)                       892                         2   \n",
       "Diabetes(actual)                           4506                         3   \n",
       "\n",
       "                       Diabetes(Predicted)  \n",
       "Geen Diabetes(actual)                  723  \n",
       "Pre-diabetes (actual)                   53  \n",
       "Diabetes(actual)                       547  "
      ]
     },
     "execution_count": 23,
     "metadata": {},
     "output_type": "execute_result"
    }
   ],
   "source": [
    "y_test_pred = best_knn.predict(X_test)\n",
    "\n",
    "from sklearn.metrics import confusion_matrix\n",
    "\n",
    "conf_matrix = confusion_matrix(y_test, y_test_pred) #Creert een \"confusion matrix\"\n",
    "conf_matrix = pd.DataFrame(conf_matrix, index=['Geen Diabetes(actual)', 'Pre-diabetes (actual)', 'Diabetes(actual)'], columns = ['Geen Diabetes(Predicted)', 'Pre-diabetes (Predicted)', 'Diabetes(Predicted)'])\n",
    "conf_matrix"
   ]
  },
  {
   "cell_type": "markdown",
   "metadata": {},
   "source": [
    "### Model evalueren"
   ]
  },
  {
   "cell_type": "code",
   "execution_count": 24,
   "metadata": {},
   "outputs": [
    {
     "data": {
      "text/plain": [
       "0.8592149004963796"
      ]
     },
     "execution_count": 24,
     "metadata": {},
     "output_type": "execute_result"
    }
   ],
   "source": [
    "from sklearn.metrics import accuracy_score\n",
    "accuracy_score(y_test, y_test_pred)"
   ]
  },
  {
   "cell_type": "markdown",
   "metadata": {},
   "source": [
    "M.b.v onze confusion matrix kunnen we zien dat onze model heeft problemen om mensen met pre-diabetes te onderscheiden van mensen zonder diabetes en diabetes. Hierdoor hebben gekozen om mensen met pre-diabetes uit onze dataset te verwijderen, de verwijderen van deze mensen zal geen nadelige effect op ons algoritme hebben. Andere reden waardoor we hebben gekozen om mensen met pre-diabetes uit onze dataset te verwijderen is omdat door de aanwezigheid van drie variabelen zorgt dat we de 'precision' en 'recall' scores te berekenen. Deze scores zijn heel belangrijk voor de evaluatie van onze model."
   ]
  },
  {
   "cell_type": "markdown",
   "metadata": {},
   "source": [
    "### Pre-Diabetes variabel verwijderen"
   ]
  },
  {
   "cell_type": "code",
   "execution_count": 25,
   "metadata": {},
   "outputs": [
    {
     "name": "stdout",
     "output_type": "stream",
     "text": [
      "Diabetes_012\n",
      "0    151678\n",
      "2     20269\n",
      "Name: count, dtype: int64\n"
     ]
    }
   ],
   "source": [
    "conditions2 = (df_def_dum['Diabetes_012'] == 1)\n",
    "\n",
    "#Gebruik '~' om de rijen te bewaren als de conditie is \"False\"\n",
    "df_def_dum = df_def_dum[~conditions2]\n",
    "\n",
    "print(df_def_dum.value_counts(df_def_dum['Diabetes_012']))"
   ]
  },
  {
   "cell_type": "markdown",
   "metadata": {},
   "source": [
    "## Model maken en evalueren (Zonder Pre-Diabetes variabel)"
   ]
  },
  {
   "cell_type": "markdown",
   "metadata": {},
   "source": [
    "### Nieuwe model maken"
   ]
  },
  {
   "cell_type": "code",
   "execution_count": 26,
   "metadata": {},
   "outputs": [
    {
     "data": {
      "text/html": [
       "<div>\n",
       "<style scoped>\n",
       "    .dataframe tbody tr th:only-of-type {\n",
       "        vertical-align: middle;\n",
       "    }\n",
       "\n",
       "    .dataframe tbody tr th {\n",
       "        vertical-align: top;\n",
       "    }\n",
       "\n",
       "    .dataframe thead th {\n",
       "        text-align: right;\n",
       "    }\n",
       "</style>\n",
       "<table border=\"1\" class=\"dataframe\">\n",
       "  <thead>\n",
       "    <tr style=\"text-align: right;\">\n",
       "      <th></th>\n",
       "      <th>BMI</th>\n",
       "      <th>Age</th>\n",
       "      <th>HighBP_0</th>\n",
       "      <th>HighBP_1</th>\n",
       "      <th>HighChol_0</th>\n",
       "      <th>HighChol_1</th>\n",
       "      <th>CholCheck_0</th>\n",
       "      <th>CholCheck_1</th>\n",
       "      <th>Smoker_0</th>\n",
       "      <th>Smoker_1</th>\n",
       "      <th>...</th>\n",
       "      <th>HvyAlcoholConsump_1</th>\n",
       "      <th>GenHlth_1</th>\n",
       "      <th>GenHlth_2</th>\n",
       "      <th>GenHlth_3</th>\n",
       "      <th>GenHlth_4</th>\n",
       "      <th>GenHlth_5</th>\n",
       "      <th>DiffWalk_0</th>\n",
       "      <th>DiffWalk_1</th>\n",
       "      <th>Sex_0</th>\n",
       "      <th>Sex_1</th>\n",
       "    </tr>\n",
       "  </thead>\n",
       "  <tbody>\n",
       "    <tr>\n",
       "      <th>178452</th>\n",
       "      <td>0.205832</td>\n",
       "      <td>-0.907105</td>\n",
       "      <td>True</td>\n",
       "      <td>False</td>\n",
       "      <td>True</td>\n",
       "      <td>False</td>\n",
       "      <td>False</td>\n",
       "      <td>True</td>\n",
       "      <td>True</td>\n",
       "      <td>False</td>\n",
       "      <td>...</td>\n",
       "      <td>False</td>\n",
       "      <td>False</td>\n",
       "      <td>True</td>\n",
       "      <td>False</td>\n",
       "      <td>False</td>\n",
       "      <td>False</td>\n",
       "      <td>True</td>\n",
       "      <td>False</td>\n",
       "      <td>False</td>\n",
       "      <td>True</td>\n",
       "    </tr>\n",
       "    <tr>\n",
       "      <th>150841</th>\n",
       "      <td>0.599892</td>\n",
       "      <td>-0.287912</td>\n",
       "      <td>True</td>\n",
       "      <td>False</td>\n",
       "      <td>True</td>\n",
       "      <td>False</td>\n",
       "      <td>False</td>\n",
       "      <td>True</td>\n",
       "      <td>True</td>\n",
       "      <td>False</td>\n",
       "      <td>...</td>\n",
       "      <td>False</td>\n",
       "      <td>False</td>\n",
       "      <td>True</td>\n",
       "      <td>False</td>\n",
       "      <td>False</td>\n",
       "      <td>False</td>\n",
       "      <td>True</td>\n",
       "      <td>False</td>\n",
       "      <td>False</td>\n",
       "      <td>True</td>\n",
       "    </tr>\n",
       "    <tr>\n",
       "      <th>30119</th>\n",
       "      <td>0.008802</td>\n",
       "      <td>0.021684</td>\n",
       "      <td>True</td>\n",
       "      <td>False</td>\n",
       "      <td>True</td>\n",
       "      <td>False</td>\n",
       "      <td>False</td>\n",
       "      <td>True</td>\n",
       "      <td>False</td>\n",
       "      <td>True</td>\n",
       "      <td>...</td>\n",
       "      <td>False</td>\n",
       "      <td>False</td>\n",
       "      <td>False</td>\n",
       "      <td>True</td>\n",
       "      <td>False</td>\n",
       "      <td>False</td>\n",
       "      <td>False</td>\n",
       "      <td>True</td>\n",
       "      <td>False</td>\n",
       "      <td>True</td>\n",
       "    </tr>\n",
       "    <tr>\n",
       "      <th>130964</th>\n",
       "      <td>-1.173378</td>\n",
       "      <td>-1.526298</td>\n",
       "      <td>True</td>\n",
       "      <td>False</td>\n",
       "      <td>True</td>\n",
       "      <td>False</td>\n",
       "      <td>False</td>\n",
       "      <td>True</td>\n",
       "      <td>True</td>\n",
       "      <td>False</td>\n",
       "      <td>...</td>\n",
       "      <td>False</td>\n",
       "      <td>True</td>\n",
       "      <td>False</td>\n",
       "      <td>False</td>\n",
       "      <td>False</td>\n",
       "      <td>False</td>\n",
       "      <td>True</td>\n",
       "      <td>False</td>\n",
       "      <td>True</td>\n",
       "      <td>False</td>\n",
       "    </tr>\n",
       "    <tr>\n",
       "      <th>151880</th>\n",
       "      <td>0.599892</td>\n",
       "      <td>-1.216701</td>\n",
       "      <td>True</td>\n",
       "      <td>False</td>\n",
       "      <td>True</td>\n",
       "      <td>False</td>\n",
       "      <td>False</td>\n",
       "      <td>True</td>\n",
       "      <td>True</td>\n",
       "      <td>False</td>\n",
       "      <td>...</td>\n",
       "      <td>False</td>\n",
       "      <td>False</td>\n",
       "      <td>True</td>\n",
       "      <td>False</td>\n",
       "      <td>False</td>\n",
       "      <td>False</td>\n",
       "      <td>True</td>\n",
       "      <td>False</td>\n",
       "      <td>True</td>\n",
       "      <td>False</td>\n",
       "    </tr>\n",
       "  </tbody>\n",
       "</table>\n",
       "<p>5 rows × 31 columns</p>\n",
       "</div>"
      ],
      "text/plain": [
       "             BMI       Age  HighBP_0  HighBP_1  HighChol_0  HighChol_1  \\\n",
       "178452  0.205832 -0.907105      True     False        True       False   \n",
       "150841  0.599892 -0.287912      True     False        True       False   \n",
       "30119   0.008802  0.021684      True     False        True       False   \n",
       "130964 -1.173378 -1.526298      True     False        True       False   \n",
       "151880  0.599892 -1.216701      True     False        True       False   \n",
       "\n",
       "        CholCheck_0  CholCheck_1  Smoker_0  Smoker_1  ...  \\\n",
       "178452        False         True      True     False  ...   \n",
       "150841        False         True      True     False  ...   \n",
       "30119         False         True     False      True  ...   \n",
       "130964        False         True      True     False  ...   \n",
       "151880        False         True      True     False  ...   \n",
       "\n",
       "        HvyAlcoholConsump_1  GenHlth_1  GenHlth_2  GenHlth_3  GenHlth_4  \\\n",
       "178452                False      False       True      False      False   \n",
       "150841                False      False       True      False      False   \n",
       "30119                 False      False      False       True      False   \n",
       "130964                False       True      False      False      False   \n",
       "151880                False      False       True      False      False   \n",
       "\n",
       "        GenHlth_5  DiffWalk_0  DiffWalk_1  Sex_0  Sex_1  \n",
       "178452      False        True       False  False   True  \n",
       "150841      False        True       False  False   True  \n",
       "30119       False       False        True  False   True  \n",
       "130964      False        True       False   True  False  \n",
       "151880      False        True       False   True  False  \n",
       "\n",
       "[5 rows x 31 columns]"
      ]
     },
     "execution_count": 26,
     "metadata": {},
     "output_type": "execute_result"
    }
   ],
   "source": [
    "from sklearn.model_selection import train_test_split\n",
    "from sklearn.neighbors import KNeighborsClassifier\n",
    "\n",
    "X = df_def_dum.drop(columns=['Diabetes_012'])\n",
    "y = df_def_dum['Diabetes_012']\n",
    "\n",
    "X_train, X_test, y_train, y_test = train_test_split(X, y, test_size=0.25, random_state=42) #split de datase, en bewaar het in verschillende variabelen\n",
    "\n",
    "X_train.head(5)"
   ]
  },
  {
   "cell_type": "markdown",
   "metadata": {},
   "source": [
    "### GridSearch CV"
   ]
  },
  {
   "cell_type": "code",
   "execution_count": 27,
   "metadata": {},
   "outputs": [
    {
     "name": "stdout",
     "output_type": "stream",
     "text": [
      "Fitting 5 folds for each of 9 candidates, totalling 45 fits\n"
     ]
    },
    {
     "data": {
      "text/html": [
       "<style>#sk-container-id-2 {color: black;}#sk-container-id-2 pre{padding: 0;}#sk-container-id-2 div.sk-toggleable {background-color: white;}#sk-container-id-2 label.sk-toggleable__label {cursor: pointer;display: block;width: 100%;margin-bottom: 0;padding: 0.3em;box-sizing: border-box;text-align: center;}#sk-container-id-2 label.sk-toggleable__label-arrow:before {content: \"▸\";float: left;margin-right: 0.25em;color: #696969;}#sk-container-id-2 label.sk-toggleable__label-arrow:hover:before {color: black;}#sk-container-id-2 div.sk-estimator:hover label.sk-toggleable__label-arrow:before {color: black;}#sk-container-id-2 div.sk-toggleable__content {max-height: 0;max-width: 0;overflow: hidden;text-align: left;background-color: #f0f8ff;}#sk-container-id-2 div.sk-toggleable__content pre {margin: 0.2em;color: black;border-radius: 0.25em;background-color: #f0f8ff;}#sk-container-id-2 input.sk-toggleable__control:checked~div.sk-toggleable__content {max-height: 200px;max-width: 100%;overflow: auto;}#sk-container-id-2 input.sk-toggleable__control:checked~label.sk-toggleable__label-arrow:before {content: \"▾\";}#sk-container-id-2 div.sk-estimator input.sk-toggleable__control:checked~label.sk-toggleable__label {background-color: #d4ebff;}#sk-container-id-2 div.sk-label input.sk-toggleable__control:checked~label.sk-toggleable__label {background-color: #d4ebff;}#sk-container-id-2 input.sk-hidden--visually {border: 0;clip: rect(1px 1px 1px 1px);clip: rect(1px, 1px, 1px, 1px);height: 1px;margin: -1px;overflow: hidden;padding: 0;position: absolute;width: 1px;}#sk-container-id-2 div.sk-estimator {font-family: monospace;background-color: #f0f8ff;border: 1px dotted black;border-radius: 0.25em;box-sizing: border-box;margin-bottom: 0.5em;}#sk-container-id-2 div.sk-estimator:hover {background-color: #d4ebff;}#sk-container-id-2 div.sk-parallel-item::after {content: \"\";width: 100%;border-bottom: 1px solid gray;flex-grow: 1;}#sk-container-id-2 div.sk-label:hover label.sk-toggleable__label {background-color: #d4ebff;}#sk-container-id-2 div.sk-serial::before {content: \"\";position: absolute;border-left: 1px solid gray;box-sizing: border-box;top: 0;bottom: 0;left: 50%;z-index: 0;}#sk-container-id-2 div.sk-serial {display: flex;flex-direction: column;align-items: center;background-color: white;padding-right: 0.2em;padding-left: 0.2em;position: relative;}#sk-container-id-2 div.sk-item {position: relative;z-index: 1;}#sk-container-id-2 div.sk-parallel {display: flex;align-items: stretch;justify-content: center;background-color: white;position: relative;}#sk-container-id-2 div.sk-item::before, #sk-container-id-2 div.sk-parallel-item::before {content: \"\";position: absolute;border-left: 1px solid gray;box-sizing: border-box;top: 0;bottom: 0;left: 50%;z-index: -1;}#sk-container-id-2 div.sk-parallel-item {display: flex;flex-direction: column;z-index: 1;position: relative;background-color: white;}#sk-container-id-2 div.sk-parallel-item:first-child::after {align-self: flex-end;width: 50%;}#sk-container-id-2 div.sk-parallel-item:last-child::after {align-self: flex-start;width: 50%;}#sk-container-id-2 div.sk-parallel-item:only-child::after {width: 0;}#sk-container-id-2 div.sk-dashed-wrapped {border: 1px dashed gray;margin: 0 0.4em 0.5em 0.4em;box-sizing: border-box;padding-bottom: 0.4em;background-color: white;}#sk-container-id-2 div.sk-label label {font-family: monospace;font-weight: bold;display: inline-block;line-height: 1.2em;}#sk-container-id-2 div.sk-label-container {text-align: center;}#sk-container-id-2 div.sk-container {/* jupyter's `normalize.less` sets `[hidden] { display: none; }` but bootstrap.min.css set `[hidden] { display: none !important; }` so we also need the `!important` here to be able to override the default hidden behavior on the sphinx rendered scikit-learn.org. See: https://github.com/scikit-learn/scikit-learn/issues/21755 */display: inline-block !important;position: relative;}#sk-container-id-2 div.sk-text-repr-fallback {display: none;}</style><div id=\"sk-container-id-2\" class=\"sk-top-container\"><div class=\"sk-text-repr-fallback\"><pre>GridSearchCV(cv=5, estimator=KNeighborsClassifier(),\n",
       "             param_grid={&#x27;n_neighbors&#x27;: array([1, 2, 3, 4, 5, 6, 7, 8, 9])},\n",
       "             verbose=1)</pre><b>In a Jupyter environment, please rerun this cell to show the HTML representation or trust the notebook. <br />On GitHub, the HTML representation is unable to render, please try loading this page with nbviewer.org.</b></div><div class=\"sk-container\" hidden><div class=\"sk-item sk-dashed-wrapped\"><div class=\"sk-label-container\"><div class=\"sk-label sk-toggleable\"><input class=\"sk-toggleable__control sk-hidden--visually\" id=\"sk-estimator-id-4\" type=\"checkbox\" ><label for=\"sk-estimator-id-4\" class=\"sk-toggleable__label sk-toggleable__label-arrow\">GridSearchCV</label><div class=\"sk-toggleable__content\"><pre>GridSearchCV(cv=5, estimator=KNeighborsClassifier(),\n",
       "             param_grid={&#x27;n_neighbors&#x27;: array([1, 2, 3, 4, 5, 6, 7, 8, 9])},\n",
       "             verbose=1)</pre></div></div></div><div class=\"sk-parallel\"><div class=\"sk-parallel-item\"><div class=\"sk-item\"><div class=\"sk-label-container\"><div class=\"sk-label sk-toggleable\"><input class=\"sk-toggleable__control sk-hidden--visually\" id=\"sk-estimator-id-5\" type=\"checkbox\" ><label for=\"sk-estimator-id-5\" class=\"sk-toggleable__label sk-toggleable__label-arrow\">estimator: KNeighborsClassifier</label><div class=\"sk-toggleable__content\"><pre>KNeighborsClassifier()</pre></div></div></div><div class=\"sk-serial\"><div class=\"sk-item\"><div class=\"sk-estimator sk-toggleable\"><input class=\"sk-toggleable__control sk-hidden--visually\" id=\"sk-estimator-id-6\" type=\"checkbox\" ><label for=\"sk-estimator-id-6\" class=\"sk-toggleable__label sk-toggleable__label-arrow\">KNeighborsClassifier</label><div class=\"sk-toggleable__content\"><pre>KNeighborsClassifier()</pre></div></div></div></div></div></div></div></div></div></div>"
      ],
      "text/plain": [
       "GridSearchCV(cv=5, estimator=KNeighborsClassifier(),\n",
       "             param_grid={'n_neighbors': array([1, 2, 3, 4, 5, 6, 7, 8, 9])},\n",
       "             verbose=1)"
      ]
     },
     "execution_count": 27,
     "metadata": {},
     "output_type": "execute_result"
    }
   ],
   "source": [
    "from sklearn.model_selection import GridSearchCV\n",
    "grid_search = GridSearchCV(estimator=KNeighborsClassifier(), param_grid={'n_neighbors':np.arange(1,10)}, cv=5,verbose=1)\n",
    "grid_search.fit(X_train, y_train)"
   ]
  },
  {
   "cell_type": "code",
   "execution_count": 28,
   "metadata": {},
   "outputs": [
    {
     "name": "stdout",
     "output_type": "stream",
     "text": [
      "Best Parameters: {'n_neighbors': 8}\n"
     ]
    }
   ],
   "source": [
    "# Laat zien de beste \"parameters\"\n",
    "print(\"Best Parameters:\", grid_search.best_params_)\n",
    "\n",
    "# Gebruik de beste \"estimator\" om resultaten te voorspellen\n",
    "best_knn = grid_search.best_estimator_"
   ]
  },
  {
   "cell_type": "code",
   "execution_count": 29,
   "metadata": {},
   "outputs": [
    {
     "data": {
      "text/html": [
       "<div>\n",
       "<style scoped>\n",
       "    .dataframe tbody tr th:only-of-type {\n",
       "        vertical-align: middle;\n",
       "    }\n",
       "\n",
       "    .dataframe tbody tr th {\n",
       "        vertical-align: top;\n",
       "    }\n",
       "\n",
       "    .dataframe thead th {\n",
       "        text-align: right;\n",
       "    }\n",
       "</style>\n",
       "<table border=\"1\" class=\"dataframe\">\n",
       "  <thead>\n",
       "    <tr style=\"text-align: right;\">\n",
       "      <th></th>\n",
       "      <th>Geen Diabetes(Predicted)</th>\n",
       "      <th>Diabetes(Predicted)</th>\n",
       "    </tr>\n",
       "  </thead>\n",
       "  <tbody>\n",
       "    <tr>\n",
       "      <th>Geen Diabetes(Echt)</th>\n",
       "      <td>37370</td>\n",
       "      <td>615</td>\n",
       "    </tr>\n",
       "    <tr>\n",
       "      <th>Diabetes(Echt)</th>\n",
       "      <td>4487</td>\n",
       "      <td>515</td>\n",
       "    </tr>\n",
       "  </tbody>\n",
       "</table>\n",
       "</div>"
      ],
      "text/plain": [
       "                     Geen Diabetes(Predicted)  Diabetes(Predicted)\n",
       "Geen Diabetes(Echt)                     37370                  615\n",
       "Diabetes(Echt)                           4487                  515"
      ]
     },
     "execution_count": 29,
     "metadata": {},
     "output_type": "execute_result"
    }
   ],
   "source": [
    "y_test_pred = best_knn.predict(X_test)\n",
    "\n",
    "from sklearn.metrics import confusion_matrix\n",
    "\n",
    "conf_matrix = confusion_matrix(y_test, y_test_pred) #Creert een \"confusion matrix\"\n",
    "conf_matrix = pd.DataFrame(conf_matrix, index=['Geen Diabetes(Echt)', 'Diabetes(Echt)'], columns = ['Geen Diabetes(Predicted)', 'Diabetes(Predicted)'])\n",
    "conf_matrix"
   ]
  },
  {
   "cell_type": "markdown",
   "metadata": {},
   "source": [
    "### Nieuwe model evalueren"
   ]
  },
  {
   "cell_type": "code",
   "execution_count": 30,
   "metadata": {},
   "outputs": [
    {
     "data": {
      "image/png": "[encoded data removed]",
      "text/plain": [
       "<Figure size 800x600 with 2 Axes>"
      ]
     },
     "metadata": {},
     "output_type": "display_data"
    }
   ],
   "source": [
    "# Maak een heatmap\n",
    "plt.figure(figsize=(8, 6))\n",
    "heatmap = sns.heatmap(conf_matrix, annot=True, fmt=\"d\", cmap=\"Blues\")\n",
    "heatmap.set_title('Confusion Matrix (KNN) Heatmap')\n",
    "plt.xlabel('Predicted label')\n",
    "plt.ylabel('True label')\n",
    "plt.show()"
   ]
  },
  {
   "cell_type": "markdown",
   "metadata": {},
   "source": [
    "#### Accuracy"
   ]
  },
  {
   "cell_type": "markdown",
   "metadata": {},
   "source": [
    "Het totaal aantal wat goed voorspelt is.\n",
    "\n",
    "Accuracy = (TP+TN) / (TP+TN+TP+FN)"
   ]
  },
  {
   "cell_type": "code",
   "execution_count": 31,
   "metadata": {},
   "outputs": [
    {
     "name": "stdout",
     "output_type": "stream",
     "text": [
      "Accuracy= 0.8813129550794426\n"
     ]
    }
   ],
   "source": [
    "from sklearn.metrics import accuracy_score\n",
    "\n",
    "print(\"Accuracy=\", accuracy_score(y_test, y_test_pred))"
   ]
  },
  {
   "cell_type": "markdown",
   "metadata": {},
   "source": [
    "#### Precision"
   ]
  },
  {
   "cell_type": "markdown",
   "metadata": {},
   "source": [
    "Het aantal voorspelde en werkelijke positieven op het totaal aantal voorspelde postitieven. Precision berekenen:\n",
    "\n",
    "Precision = TP/(TP + FP)"
   ]
  },
  {
   "cell_type": "code",
   "execution_count": 32,
   "metadata": {},
   "outputs": [
    {
     "name": "stdout",
     "output_type": "stream",
     "text": [
      "Precision = 0.4557522123893805\n"
     ]
    }
   ],
   "source": [
    "from sklearn.metrics import precision_score\n",
    "print(\"Precision =\", precision_score(y_test, y_test_pred, pos_label=2))"
   ]
  },
  {
   "cell_type": "markdown",
   "metadata": {},
   "source": [
    "#### Recall"
   ]
  },
  {
   "cell_type": "markdown",
   "metadata": {},
   "source": [
    "Het aantal voorspelde en werkelijke positieven op het totaal aantal werkelijke positieven.\n",
    "\n",
    "Recall = TP/(TP+FN)"
   ]
  },
  {
   "cell_type": "code",
   "execution_count": 33,
   "metadata": {},
   "outputs": [
    {
     "name": "stdout",
     "output_type": "stream",
     "text": [
      "Recall = 0.10295881647341064\n"
     ]
    }
   ],
   "source": [
    "from sklearn.metrics import recall_score\n",
    "print(\"Recall =\", recall_score(y_test, y_test_pred, pos_label=2))"
   ]
  },
  {
   "cell_type": "markdown",
   "metadata": {},
   "source": [
    "## Andere modellen"
   ]
  },
  {
   "cell_type": "markdown",
   "metadata": {},
   "source": [
    "## Logistic Regression"
   ]
  },
  {
   "cell_type": "markdown",
   "metadata": {},
   "source": [
    "### Data splitten in train en test set"
   ]
  },
  {
   "cell_type": "code",
   "execution_count": 34,
   "metadata": {},
   "outputs": [
    {
     "data": {
      "text/html": [
       "<div>\n",
       "<style scoped>\n",
       "    .dataframe tbody tr th:only-of-type {\n",
       "        vertical-align: middle;\n",
       "    }\n",
       "\n",
       "    .dataframe tbody tr th {\n",
       "        vertical-align: top;\n",
       "    }\n",
       "\n",
       "    .dataframe thead th {\n",
       "        text-align: right;\n",
       "    }\n",
       "</style>\n",
       "<table border=\"1\" class=\"dataframe\">\n",
       "  <thead>\n",
       "    <tr style=\"text-align: right;\">\n",
       "      <th></th>\n",
       "      <th>BMI</th>\n",
       "      <th>Age</th>\n",
       "      <th>HighBP_0</th>\n",
       "      <th>HighBP_1</th>\n",
       "      <th>HighChol_0</th>\n",
       "      <th>HighChol_1</th>\n",
       "      <th>CholCheck_0</th>\n",
       "      <th>CholCheck_1</th>\n",
       "      <th>Smoker_0</th>\n",
       "      <th>Smoker_1</th>\n",
       "      <th>...</th>\n",
       "      <th>HvyAlcoholConsump_1</th>\n",
       "      <th>GenHlth_1</th>\n",
       "      <th>GenHlth_2</th>\n",
       "      <th>GenHlth_3</th>\n",
       "      <th>GenHlth_4</th>\n",
       "      <th>GenHlth_5</th>\n",
       "      <th>DiffWalk_0</th>\n",
       "      <th>DiffWalk_1</th>\n",
       "      <th>Sex_0</th>\n",
       "      <th>Sex_1</th>\n",
       "    </tr>\n",
       "  </thead>\n",
       "  <tbody>\n",
       "    <tr>\n",
       "      <th>178452</th>\n",
       "      <td>0.205832</td>\n",
       "      <td>-0.907105</td>\n",
       "      <td>True</td>\n",
       "      <td>False</td>\n",
       "      <td>True</td>\n",
       "      <td>False</td>\n",
       "      <td>False</td>\n",
       "      <td>True</td>\n",
       "      <td>True</td>\n",
       "      <td>False</td>\n",
       "      <td>...</td>\n",
       "      <td>False</td>\n",
       "      <td>False</td>\n",
       "      <td>True</td>\n",
       "      <td>False</td>\n",
       "      <td>False</td>\n",
       "      <td>False</td>\n",
       "      <td>True</td>\n",
       "      <td>False</td>\n",
       "      <td>False</td>\n",
       "      <td>True</td>\n",
       "    </tr>\n",
       "    <tr>\n",
       "      <th>150841</th>\n",
       "      <td>0.599892</td>\n",
       "      <td>-0.287912</td>\n",
       "      <td>True</td>\n",
       "      <td>False</td>\n",
       "      <td>True</td>\n",
       "      <td>False</td>\n",
       "      <td>False</td>\n",
       "      <td>True</td>\n",
       "      <td>True</td>\n",
       "      <td>False</td>\n",
       "      <td>...</td>\n",
       "      <td>False</td>\n",
       "      <td>False</td>\n",
       "      <td>True</td>\n",
       "      <td>False</td>\n",
       "      <td>False</td>\n",
       "      <td>False</td>\n",
       "      <td>True</td>\n",
       "      <td>False</td>\n",
       "      <td>False</td>\n",
       "      <td>True</td>\n",
       "    </tr>\n",
       "    <tr>\n",
       "      <th>30119</th>\n",
       "      <td>0.008802</td>\n",
       "      <td>0.021684</td>\n",
       "      <td>True</td>\n",
       "      <td>False</td>\n",
       "      <td>True</td>\n",
       "      <td>False</td>\n",
       "      <td>False</td>\n",
       "      <td>True</td>\n",
       "      <td>False</td>\n",
       "      <td>True</td>\n",
       "      <td>...</td>\n",
       "      <td>False</td>\n",
       "      <td>False</td>\n",
       "      <td>False</td>\n",
       "      <td>True</td>\n",
       "      <td>False</td>\n",
       "      <td>False</td>\n",
       "      <td>False</td>\n",
       "      <td>True</td>\n",
       "      <td>False</td>\n",
       "      <td>True</td>\n",
       "    </tr>\n",
       "    <tr>\n",
       "      <th>130964</th>\n",
       "      <td>-1.173378</td>\n",
       "      <td>-1.526298</td>\n",
       "      <td>True</td>\n",
       "      <td>False</td>\n",
       "      <td>True</td>\n",
       "      <td>False</td>\n",
       "      <td>False</td>\n",
       "      <td>True</td>\n",
       "      <td>True</td>\n",
       "      <td>False</td>\n",
       "      <td>...</td>\n",
       "      <td>False</td>\n",
       "      <td>True</td>\n",
       "      <td>False</td>\n",
       "      <td>False</td>\n",
       "      <td>False</td>\n",
       "      <td>False</td>\n",
       "      <td>True</td>\n",
       "      <td>False</td>\n",
       "      <td>True</td>\n",
       "      <td>False</td>\n",
       "    </tr>\n",
       "    <tr>\n",
       "      <th>151880</th>\n",
       "      <td>0.599892</td>\n",
       "      <td>-1.216701</td>\n",
       "      <td>True</td>\n",
       "      <td>False</td>\n",
       "      <td>True</td>\n",
       "      <td>False</td>\n",
       "      <td>False</td>\n",
       "      <td>True</td>\n",
       "      <td>True</td>\n",
       "      <td>False</td>\n",
       "      <td>...</td>\n",
       "      <td>False</td>\n",
       "      <td>False</td>\n",
       "      <td>True</td>\n",
       "      <td>False</td>\n",
       "      <td>False</td>\n",
       "      <td>False</td>\n",
       "      <td>True</td>\n",
       "      <td>False</td>\n",
       "      <td>True</td>\n",
       "      <td>False</td>\n",
       "    </tr>\n",
       "  </tbody>\n",
       "</table>\n",
       "<p>5 rows × 31 columns</p>\n",
       "</div>"
      ],
      "text/plain": [
       "             BMI       Age  HighBP_0  HighBP_1  HighChol_0  HighChol_1  \\\n",
       "178452  0.205832 -0.907105      True     False        True       False   \n",
       "150841  0.599892 -0.287912      True     False        True       False   \n",
       "30119   0.008802  0.021684      True     False        True       False   \n",
       "130964 -1.173378 -1.526298      True     False        True       False   \n",
       "151880  0.599892 -1.216701      True     False        True       False   \n",
       "\n",
       "        CholCheck_0  CholCheck_1  Smoker_0  Smoker_1  ...  \\\n",
       "178452        False         True      True     False  ...   \n",
       "150841        False         True      True     False  ...   \n",
       "30119         False         True     False      True  ...   \n",
       "130964        False         True      True     False  ...   \n",
       "151880        False         True      True     False  ...   \n",
       "\n",
       "        HvyAlcoholConsump_1  GenHlth_1  GenHlth_2  GenHlth_3  GenHlth_4  \\\n",
       "178452                False      False       True      False      False   \n",
       "150841                False      False       True      False      False   \n",
       "30119                 False      False      False       True      False   \n",
       "130964                False       True      False      False      False   \n",
       "151880                False      False       True      False      False   \n",
       "\n",
       "        GenHlth_5  DiffWalk_0  DiffWalk_1  Sex_0  Sex_1  \n",
       "178452      False        True       False  False   True  \n",
       "150841      False        True       False  False   True  \n",
       "30119       False       False        True  False   True  \n",
       "130964      False        True       False   True  False  \n",
       "151880      False        True       False   True  False  \n",
       "\n",
       "[5 rows x 31 columns]"
      ]
     },
     "execution_count": 34,
     "metadata": {},
     "output_type": "execute_result"
    }
   ],
   "source": [
    "from sklearn.model_selection import train_test_split\n",
    "from sklearn.linear_model import LogisticRegression\n",
    "\n",
    "X = df_def_dum.drop(columns=['Diabetes_012'])\n",
    "y = df_def_dum['Diabetes_012']\n",
    "\n",
    "X_train, X_test, y_train, y_test = train_test_split(X, y, test_size=0.25, random_state=42) #split de datase, en bewaar het in verschillende variabelen\n",
    "\n",
    "X_train.head(5)"
   ]
  },
  {
   "cell_type": "markdown",
   "metadata": {},
   "source": [
    "### GridSearch CV"
   ]
  },
  {
   "cell_type": "code",
   "execution_count": 35,
   "metadata": {},
   "outputs": [
    {
     "name": "stdout",
     "output_type": "stream",
     "text": [
      "Fitting 5 folds for each of 9 candidates, totalling 45 fits\n"
     ]
    },
    {
     "data": {
      "text/html": [
       "<style>#sk-container-id-3 {color: black;}#sk-container-id-3 pre{padding: 0;}#sk-container-id-3 div.sk-toggleable {background-color: white;}#sk-container-id-3 label.sk-toggleable__label {cursor: pointer;display: block;width: 100%;margin-bottom: 0;padding: 0.3em;box-sizing: border-box;text-align: center;}#sk-container-id-3 label.sk-toggleable__label-arrow:before {content: \"▸\";float: left;margin-right: 0.25em;color: #696969;}#sk-container-id-3 label.sk-toggleable__label-arrow:hover:before {color: black;}#sk-container-id-3 div.sk-estimator:hover label.sk-toggleable__label-arrow:before {color: black;}#sk-container-id-3 div.sk-toggleable__content {max-height: 0;max-width: 0;overflow: hidden;text-align: left;background-color: #f0f8ff;}#sk-container-id-3 div.sk-toggleable__content pre {margin: 0.2em;color: black;border-radius: 0.25em;background-color: #f0f8ff;}#sk-container-id-3 input.sk-toggleable__control:checked~div.sk-toggleable__content {max-height: 200px;max-width: 100%;overflow: auto;}#sk-container-id-3 input.sk-toggleable__control:checked~label.sk-toggleable__label-arrow:before {content: \"▾\";}#sk-container-id-3 div.sk-estimator input.sk-toggleable__control:checked~label.sk-toggleable__label {background-color: #d4ebff;}#sk-container-id-3 div.sk-label input.sk-toggleable__control:checked~label.sk-toggleable__label {background-color: #d4ebff;}#sk-container-id-3 input.sk-hidden--visually {border: 0;clip: rect(1px 1px 1px 1px);clip: rect(1px, 1px, 1px, 1px);height: 1px;margin: -1px;overflow: hidden;padding: 0;position: absolute;width: 1px;}#sk-container-id-3 div.sk-estimator {font-family: monospace;background-color: #f0f8ff;border: 1px dotted black;border-radius: 0.25em;box-sizing: border-box;margin-bottom: 0.5em;}#sk-container-id-3 div.sk-estimator:hover {background-color: #d4ebff;}#sk-container-id-3 div.sk-parallel-item::after {content: \"\";width: 100%;border-bottom: 1px solid gray;flex-grow: 1;}#sk-container-id-3 div.sk-label:hover label.sk-toggleable__label {background-color: #d4ebff;}#sk-container-id-3 div.sk-serial::before {content: \"\";position: absolute;border-left: 1px solid gray;box-sizing: border-box;top: 0;bottom: 0;left: 50%;z-index: 0;}#sk-container-id-3 div.sk-serial {display: flex;flex-direction: column;align-items: center;background-color: white;padding-right: 0.2em;padding-left: 0.2em;position: relative;}#sk-container-id-3 div.sk-item {position: relative;z-index: 1;}#sk-container-id-3 div.sk-parallel {display: flex;align-items: stretch;justify-content: center;background-color: white;position: relative;}#sk-container-id-3 div.sk-item::before, #sk-container-id-3 div.sk-parallel-item::before {content: \"\";position: absolute;border-left: 1px solid gray;box-sizing: border-box;top: 0;bottom: 0;left: 50%;z-index: -1;}#sk-container-id-3 div.sk-parallel-item {display: flex;flex-direction: column;z-index: 1;position: relative;background-color: white;}#sk-container-id-3 div.sk-parallel-item:first-child::after {align-self: flex-end;width: 50%;}#sk-container-id-3 div.sk-parallel-item:last-child::after {align-self: flex-start;width: 50%;}#sk-container-id-3 div.sk-parallel-item:only-child::after {width: 0;}#sk-container-id-3 div.sk-dashed-wrapped {border: 1px dashed gray;margin: 0 0.4em 0.5em 0.4em;box-sizing: border-box;padding-bottom: 0.4em;background-color: white;}#sk-container-id-3 div.sk-label label {font-family: monospace;font-weight: bold;display: inline-block;line-height: 1.2em;}#sk-container-id-3 div.sk-label-container {text-align: center;}#sk-container-id-3 div.sk-container {/* jupyter's `normalize.less` sets `[hidden] { display: none; }` but bootstrap.min.css set `[hidden] { display: none !important; }` so we also need the `!important` here to be able to override the default hidden behavior on the sphinx rendered scikit-learn.org. See: https://github.com/scikit-learn/scikit-learn/issues/21755 */display: inline-block !important;position: relative;}#sk-container-id-3 div.sk-text-repr-fallback {display: none;}</style><div id=\"sk-container-id-3\" class=\"sk-top-container\"><div class=\"sk-text-repr-fallback\"><pre>GridSearchCV(cv=5, estimator=LogisticRegression(),\n",
       "             param_grid={&#x27;C&#x27;: array([1, 2, 3, 4, 5, 6, 7, 8, 9])}, verbose=1)</pre><b>In a Jupyter environment, please rerun this cell to show the HTML representation or trust the notebook. <br />On GitHub, the HTML representation is unable to render, please try loading this page with nbviewer.org.</b></div><div class=\"sk-container\" hidden><div class=\"sk-item sk-dashed-wrapped\"><div class=\"sk-label-container\"><div class=\"sk-label sk-toggleable\"><input class=\"sk-toggleable__control sk-hidden--visually\" id=\"sk-estimator-id-7\" type=\"checkbox\" ><label for=\"sk-estimator-id-7\" class=\"sk-toggleable__label sk-toggleable__label-arrow\">GridSearchCV</label><div class=\"sk-toggleable__content\"><pre>GridSearchCV(cv=5, estimator=LogisticRegression(),\n",
       "             param_grid={&#x27;C&#x27;: array([1, 2, 3, 4, 5, 6, 7, 8, 9])}, verbose=1)</pre></div></div></div><div class=\"sk-parallel\"><div class=\"sk-parallel-item\"><div class=\"sk-item\"><div class=\"sk-label-container\"><div class=\"sk-label sk-toggleable\"><input class=\"sk-toggleable__control sk-hidden--visually\" id=\"sk-estimator-id-8\" type=\"checkbox\" ><label for=\"sk-estimator-id-8\" class=\"sk-toggleable__label sk-toggleable__label-arrow\">estimator: LogisticRegression</label><div class=\"sk-toggleable__content\"><pre>LogisticRegression()</pre></div></div></div><div class=\"sk-serial\"><div class=\"sk-item\"><div class=\"sk-estimator sk-toggleable\"><input class=\"sk-toggleable__control sk-hidden--visually\" id=\"sk-estimator-id-9\" type=\"checkbox\" ><label for=\"sk-estimator-id-9\" class=\"sk-toggleable__label sk-toggleable__label-arrow\">LogisticRegression</label><div class=\"sk-toggleable__content\"><pre>LogisticRegression()</pre></div></div></div></div></div></div></div></div></div></div>"
      ],
      "text/plain": [
       "GridSearchCV(cv=5, estimator=LogisticRegression(),\n",
       "             param_grid={'C': array([1, 2, 3, 4, 5, 6, 7, 8, 9])}, verbose=1)"
      ]
     },
     "execution_count": 35,
     "metadata": {},
     "output_type": "execute_result"
    }
   ],
   "source": [
    "from sklearn.model_selection import GridSearchCV\n",
    "grid_search = GridSearchCV(estimator=LogisticRegression(), param_grid={'C':np.arange(1,10)}, cv=5,verbose=1)\n",
    "grid_search.fit(X_train, y_train)"
   ]
  },
  {
   "cell_type": "code",
   "execution_count": 36,
   "metadata": {},
   "outputs": [
    {
     "name": "stdout",
     "output_type": "stream",
     "text": [
      "Best Parameters: {'C': 6}\n"
     ]
    }
   ],
   "source": [
    "# Laat zien de beste \"parameters\"\n",
    "print(\"Best Parameters:\", grid_search.best_params_)\n",
    "\n",
    "# Gebruik de beste \"estimator\" om resultaten te voorspellen\n",
    "best_log = grid_search.best_estimator_"
   ]
  },
  {
   "cell_type": "code",
   "execution_count": 37,
   "metadata": {},
   "outputs": [
    {
     "data": {
      "text/html": [
       "<div>\n",
       "<style scoped>\n",
       "    .dataframe tbody tr th:only-of-type {\n",
       "        vertical-align: middle;\n",
       "    }\n",
       "\n",
       "    .dataframe tbody tr th {\n",
       "        vertical-align: top;\n",
       "    }\n",
       "\n",
       "    .dataframe thead th {\n",
       "        text-align: right;\n",
       "    }\n",
       "</style>\n",
       "<table border=\"1\" class=\"dataframe\">\n",
       "  <thead>\n",
       "    <tr style=\"text-align: right;\">\n",
       "      <th></th>\n",
       "      <th>Geen Diabetes(Predicted)</th>\n",
       "      <th>Diabetes(Predicted)</th>\n",
       "    </tr>\n",
       "  </thead>\n",
       "  <tbody>\n",
       "    <tr>\n",
       "      <th>Geen Diabetes(Echt)</th>\n",
       "      <td>37370</td>\n",
       "      <td>615</td>\n",
       "    </tr>\n",
       "    <tr>\n",
       "      <th>Diabetes(Echt)</th>\n",
       "      <td>4487</td>\n",
       "      <td>515</td>\n",
       "    </tr>\n",
       "  </tbody>\n",
       "</table>\n",
       "</div>"
      ],
      "text/plain": [
       "                     Geen Diabetes(Predicted)  Diabetes(Predicted)\n",
       "Geen Diabetes(Echt)                     37370                  615\n",
       "Diabetes(Echt)                           4487                  515"
      ]
     },
     "execution_count": 37,
     "metadata": {},
     "output_type": "execute_result"
    }
   ],
   "source": [
    "y_test_pred = best_log.predict(X_test)\n",
    "\n",
    "from sklearn.metrics import confusion_matrix\n",
    "\n",
    "conf_matrix2 = confusion_matrix(y_test, y_test_pred) #Creert een \"confusion matrix\"\n",
    "conf_matrix2 = pd.DataFrame(conf_matrix, index=['Geen Diabetes(Echt)', 'Diabetes(Echt)'], columns = ['Geen Diabetes(Predicted)', 'Diabetes(Predicted)'])\n",
    "conf_matrix2"
   ]
  },
  {
   "cell_type": "markdown",
   "metadata": {},
   "source": [
    "### Logistic regression model evalueren"
   ]
  },
  {
   "cell_type": "code",
   "execution_count": 38,
   "metadata": {},
   "outputs": [
    {
     "data": {
      "image/png": "[encoded data removed]",
      "text/plain": [
       "<Figure size 800x600 with 2 Axes>"
      ]
     },
     "metadata": {},
     "output_type": "display_data"
    }
   ],
   "source": [
    "# Maak een heatmap\n",
    "plt.figure(figsize=(8, 6))\n",
    "heatmap = sns.heatmap(conf_matrix2, annot=True, fmt=\"d\", cmap=\"Blues\")\n",
    "heatmap.set_title('Confusion Matrix (Logistic Regresion) Heatmap')\n",
    "plt.xlabel('Predicted label')\n",
    "plt.ylabel('True label')\n",
    "plt.show()"
   ]
  },
  {
   "cell_type": "markdown",
   "metadata": {},
   "source": [
    "#### Accuracy"
   ]
  },
  {
   "cell_type": "markdown",
   "metadata": {},
   "source": [
    "Het totaal aantal wat goed voorspelt is.\n",
    "\n",
    "Accuracy = (TP+TN) / (TP+TN+TP+FN)"
   ]
  },
  {
   "cell_type": "code",
   "execution_count": 39,
   "metadata": {},
   "outputs": [
    {
     "name": "stdout",
     "output_type": "stream",
     "text": [
      "Accuracy= 0.8843603880242864\n"
     ]
    }
   ],
   "source": [
    "from sklearn.metrics import accuracy_score\n",
    "\n",
    "print(\"Accuracy=\", accuracy_score(y_test, y_test_pred))"
   ]
  },
  {
   "cell_type": "markdown",
   "metadata": {},
   "source": [
    "#### Precision"
   ]
  },
  {
   "cell_type": "markdown",
   "metadata": {},
   "source": [
    "Het aantal voorspelde en werkelijke positieven op het totaal aantal voorspelde postitieven. Precision berekenen:\n",
    "\n",
    "Precision = TP/(TP + FP)"
   ]
  },
  {
   "cell_type": "code",
   "execution_count": 40,
   "metadata": {},
   "outputs": [
    {
     "name": "stdout",
     "output_type": "stream",
     "text": [
      "Precision = 0.5160955347871236\n"
     ]
    }
   ],
   "source": [
    "from sklearn.metrics import precision_score\n",
    "print(\"Precision =\", precision_score(y_test, y_test_pred, pos_label=2))"
   ]
  },
  {
   "cell_type": "markdown",
   "metadata": {},
   "source": [
    "#### Recall"
   ]
  },
  {
   "cell_type": "markdown",
   "metadata": {},
   "source": [
    "Het aantal voorspelde en werkelijke positieven op het totaal aantal werkelijke positieven.\n",
    "\n",
    "Recall = TP/(TP+FN)"
   ]
  },
  {
   "cell_type": "code",
   "execution_count": 41,
   "metadata": {},
   "outputs": [
    {
     "name": "stdout",
     "output_type": "stream",
     "text": [
      "Recall = 0.09936025589764094\n"
     ]
    }
   ],
   "source": [
    "from sklearn.metrics import recall_score\n",
    "print(\"Recall =\", recall_score(y_test, y_test_pred, pos_label=2))"
   ]
  },
  {
   "cell_type": "markdown",
   "metadata": {},
   "source": [
    "## Random Forest"
   ]
  },
  {
   "cell_type": "markdown",
   "metadata": {},
   "source": [
    "### Data splitten in train en test set"
   ]
  },
  {
   "cell_type": "code",
   "execution_count": 42,
   "metadata": {},
   "outputs": [
    {
     "data": {
      "text/html": [
       "<div>\n",
       "<style scoped>\n",
       "    .dataframe tbody tr th:only-of-type {\n",
       "        vertical-align: middle;\n",
       "    }\n",
       "\n",
       "    .dataframe tbody tr th {\n",
       "        vertical-align: top;\n",
       "    }\n",
       "\n",
       "    .dataframe thead th {\n",
       "        text-align: right;\n",
       "    }\n",
       "</style>\n",
       "<table border=\"1\" class=\"dataframe\">\n",
       "  <thead>\n",
       "    <tr style=\"text-align: right;\">\n",
       "      <th></th>\n",
       "      <th>BMI</th>\n",
       "      <th>Age</th>\n",
       "      <th>HighBP_0</th>\n",
       "      <th>HighBP_1</th>\n",
       "      <th>HighChol_0</th>\n",
       "      <th>HighChol_1</th>\n",
       "      <th>CholCheck_0</th>\n",
       "      <th>CholCheck_1</th>\n",
       "      <th>Smoker_0</th>\n",
       "      <th>Smoker_1</th>\n",
       "      <th>...</th>\n",
       "      <th>HvyAlcoholConsump_1</th>\n",
       "      <th>GenHlth_1</th>\n",
       "      <th>GenHlth_2</th>\n",
       "      <th>GenHlth_3</th>\n",
       "      <th>GenHlth_4</th>\n",
       "      <th>GenHlth_5</th>\n",
       "      <th>DiffWalk_0</th>\n",
       "      <th>DiffWalk_1</th>\n",
       "      <th>Sex_0</th>\n",
       "      <th>Sex_1</th>\n",
       "    </tr>\n",
       "  </thead>\n",
       "  <tbody>\n",
       "    <tr>\n",
       "      <th>178452</th>\n",
       "      <td>0.205832</td>\n",
       "      <td>-0.907105</td>\n",
       "      <td>True</td>\n",
       "      <td>False</td>\n",
       "      <td>True</td>\n",
       "      <td>False</td>\n",
       "      <td>False</td>\n",
       "      <td>True</td>\n",
       "      <td>True</td>\n",
       "      <td>False</td>\n",
       "      <td>...</td>\n",
       "      <td>False</td>\n",
       "      <td>False</td>\n",
       "      <td>True</td>\n",
       "      <td>False</td>\n",
       "      <td>False</td>\n",
       "      <td>False</td>\n",
       "      <td>True</td>\n",
       "      <td>False</td>\n",
       "      <td>False</td>\n",
       "      <td>True</td>\n",
       "    </tr>\n",
       "    <tr>\n",
       "      <th>150841</th>\n",
       "      <td>0.599892</td>\n",
       "      <td>-0.287912</td>\n",
       "      <td>True</td>\n",
       "      <td>False</td>\n",
       "      <td>True</td>\n",
       "      <td>False</td>\n",
       "      <td>False</td>\n",
       "      <td>True</td>\n",
       "      <td>True</td>\n",
       "      <td>False</td>\n",
       "      <td>...</td>\n",
       "      <td>False</td>\n",
       "      <td>False</td>\n",
       "      <td>True</td>\n",
       "      <td>False</td>\n",
       "      <td>False</td>\n",
       "      <td>False</td>\n",
       "      <td>True</td>\n",
       "      <td>False</td>\n",
       "      <td>False</td>\n",
       "      <td>True</td>\n",
       "    </tr>\n",
       "    <tr>\n",
       "      <th>30119</th>\n",
       "      <td>0.008802</td>\n",
       "      <td>0.021684</td>\n",
       "      <td>True</td>\n",
       "      <td>False</td>\n",
       "      <td>True</td>\n",
       "      <td>False</td>\n",
       "      <td>False</td>\n",
       "      <td>True</td>\n",
       "      <td>False</td>\n",
       "      <td>True</td>\n",
       "      <td>...</td>\n",
       "      <td>False</td>\n",
       "      <td>False</td>\n",
       "      <td>False</td>\n",
       "      <td>True</td>\n",
       "      <td>False</td>\n",
       "      <td>False</td>\n",
       "      <td>False</td>\n",
       "      <td>True</td>\n",
       "      <td>False</td>\n",
       "      <td>True</td>\n",
       "    </tr>\n",
       "    <tr>\n",
       "      <th>130964</th>\n",
       "      <td>-1.173378</td>\n",
       "      <td>-1.526298</td>\n",
       "      <td>True</td>\n",
       "      <td>False</td>\n",
       "      <td>True</td>\n",
       "      <td>False</td>\n",
       "      <td>False</td>\n",
       "      <td>True</td>\n",
       "      <td>True</td>\n",
       "      <td>False</td>\n",
       "      <td>...</td>\n",
       "      <td>False</td>\n",
       "      <td>True</td>\n",
       "      <td>False</td>\n",
       "      <td>False</td>\n",
       "      <td>False</td>\n",
       "      <td>False</td>\n",
       "      <td>True</td>\n",
       "      <td>False</td>\n",
       "      <td>True</td>\n",
       "      <td>False</td>\n",
       "    </tr>\n",
       "    <tr>\n",
       "      <th>151880</th>\n",
       "      <td>0.599892</td>\n",
       "      <td>-1.216701</td>\n",
       "      <td>True</td>\n",
       "      <td>False</td>\n",
       "      <td>True</td>\n",
       "      <td>False</td>\n",
       "      <td>False</td>\n",
       "      <td>True</td>\n",
       "      <td>True</td>\n",
       "      <td>False</td>\n",
       "      <td>...</td>\n",
       "      <td>False</td>\n",
       "      <td>False</td>\n",
       "      <td>True</td>\n",
       "      <td>False</td>\n",
       "      <td>False</td>\n",
       "      <td>False</td>\n",
       "      <td>True</td>\n",
       "      <td>False</td>\n",
       "      <td>True</td>\n",
       "      <td>False</td>\n",
       "    </tr>\n",
       "  </tbody>\n",
       "</table>\n",
       "<p>5 rows × 31 columns</p>\n",
       "</div>"
      ],
      "text/plain": [
       "             BMI       Age  HighBP_0  HighBP_1  HighChol_0  HighChol_1  \\\n",
       "178452  0.205832 -0.907105      True     False        True       False   \n",
       "150841  0.599892 -0.287912      True     False        True       False   \n",
       "30119   0.008802  0.021684      True     False        True       False   \n",
       "130964 -1.173378 -1.526298      True     False        True       False   \n",
       "151880  0.599892 -1.216701      True     False        True       False   \n",
       "\n",
       "        CholCheck_0  CholCheck_1  Smoker_0  Smoker_1  ...  \\\n",
       "178452        False         True      True     False  ...   \n",
       "150841        False         True      True     False  ...   \n",
       "30119         False         True     False      True  ...   \n",
       "130964        False         True      True     False  ...   \n",
       "151880        False         True      True     False  ...   \n",
       "\n",
       "        HvyAlcoholConsump_1  GenHlth_1  GenHlth_2  GenHlth_3  GenHlth_4  \\\n",
       "178452                False      False       True      False      False   \n",
       "150841                False      False       True      False      False   \n",
       "30119                 False      False      False       True      False   \n",
       "130964                False       True      False      False      False   \n",
       "151880                False      False       True      False      False   \n",
       "\n",
       "        GenHlth_5  DiffWalk_0  DiffWalk_1  Sex_0  Sex_1  \n",
       "178452      False        True       False  False   True  \n",
       "150841      False        True       False  False   True  \n",
       "30119       False       False        True  False   True  \n",
       "130964      False        True       False   True  False  \n",
       "151880      False        True       False   True  False  \n",
       "\n",
       "[5 rows x 31 columns]"
      ]
     },
     "execution_count": 42,
     "metadata": {},
     "output_type": "execute_result"
    }
   ],
   "source": [
    "from sklearn.model_selection import train_test_split\n",
    "from sklearn.ensemble import RandomForestClassifier\n",
    "\n",
    "X = df_def_dum.drop(columns=['Diabetes_012'])\n",
    "y = df_def_dum['Diabetes_012']\n",
    "\n",
    "X_train, X_test, y_train, y_test = train_test_split(X, y, test_size=0.25, random_state=42) #split de datase, en bewaar het in verschillende variabelen\n",
    "\n",
    "X_train.head(5)"
   ]
  },
  {
   "cell_type": "markdown",
   "metadata": {},
   "source": [
    "### GridSearch CV"
   ]
  },
  {
   "cell_type": "code",
   "execution_count": 43,
   "metadata": {},
   "outputs": [
    {
     "name": "stdout",
     "output_type": "stream",
     "text": [
      "Fitting 5 folds for each of 9 candidates, totalling 45 fits\n"
     ]
    },
    {
     "data": {
      "text/html": [
       "<style>#sk-container-id-4 {color: black;}#sk-container-id-4 pre{padding: 0;}#sk-container-id-4 div.sk-toggleable {background-color: white;}#sk-container-id-4 label.sk-toggleable__label {cursor: pointer;display: block;width: 100%;margin-bottom: 0;padding: 0.3em;box-sizing: border-box;text-align: center;}#sk-container-id-4 label.sk-toggleable__label-arrow:before {content: \"▸\";float: left;margin-right: 0.25em;color: #696969;}#sk-container-id-4 label.sk-toggleable__label-arrow:hover:before {color: black;}#sk-container-id-4 div.sk-estimator:hover label.sk-toggleable__label-arrow:before {color: black;}#sk-container-id-4 div.sk-toggleable__content {max-height: 0;max-width: 0;overflow: hidden;text-align: left;background-color: #f0f8ff;}#sk-container-id-4 div.sk-toggleable__content pre {margin: 0.2em;color: black;border-radius: 0.25em;background-color: #f0f8ff;}#sk-container-id-4 input.sk-toggleable__control:checked~div.sk-toggleable__content {max-height: 200px;max-width: 100%;overflow: auto;}#sk-container-id-4 input.sk-toggleable__control:checked~label.sk-toggleable__label-arrow:before {content: \"▾\";}#sk-container-id-4 div.sk-estimator input.sk-toggleable__control:checked~label.sk-toggleable__label {background-color: #d4ebff;}#sk-container-id-4 div.sk-label input.sk-toggleable__control:checked~label.sk-toggleable__label {background-color: #d4ebff;}#sk-container-id-4 input.sk-hidden--visually {border: 0;clip: rect(1px 1px 1px 1px);clip: rect(1px, 1px, 1px, 1px);height: 1px;margin: -1px;overflow: hidden;padding: 0;position: absolute;width: 1px;}#sk-container-id-4 div.sk-estimator {font-family: monospace;background-color: #f0f8ff;border: 1px dotted black;border-radius: 0.25em;box-sizing: border-box;margin-bottom: 0.5em;}#sk-container-id-4 div.sk-estimator:hover {background-color: #d4ebff;}#sk-container-id-4 div.sk-parallel-item::after {content: \"\";width: 100%;border-bottom: 1px solid gray;flex-grow: 1;}#sk-container-id-4 div.sk-label:hover label.sk-toggleable__label {background-color: #d4ebff;}#sk-container-id-4 div.sk-serial::before {content: \"\";position: absolute;border-left: 1px solid gray;box-sizing: border-box;top: 0;bottom: 0;left: 50%;z-index: 0;}#sk-container-id-4 div.sk-serial {display: flex;flex-direction: column;align-items: center;background-color: white;padding-right: 0.2em;padding-left: 0.2em;position: relative;}#sk-container-id-4 div.sk-item {position: relative;z-index: 1;}#sk-container-id-4 div.sk-parallel {display: flex;align-items: stretch;justify-content: center;background-color: white;position: relative;}#sk-container-id-4 div.sk-item::before, #sk-container-id-4 div.sk-parallel-item::before {content: \"\";position: absolute;border-left: 1px solid gray;box-sizing: border-box;top: 0;bottom: 0;left: 50%;z-index: -1;}#sk-container-id-4 div.sk-parallel-item {display: flex;flex-direction: column;z-index: 1;position: relative;background-color: white;}#sk-container-id-4 div.sk-parallel-item:first-child::after {align-self: flex-end;width: 50%;}#sk-container-id-4 div.sk-parallel-item:last-child::after {align-self: flex-start;width: 50%;}#sk-container-id-4 div.sk-parallel-item:only-child::after {width: 0;}#sk-container-id-4 div.sk-dashed-wrapped {border: 1px dashed gray;margin: 0 0.4em 0.5em 0.4em;box-sizing: border-box;padding-bottom: 0.4em;background-color: white;}#sk-container-id-4 div.sk-label label {font-family: monospace;font-weight: bold;display: inline-block;line-height: 1.2em;}#sk-container-id-4 div.sk-label-container {text-align: center;}#sk-container-id-4 div.sk-container {/* jupyter's `normalize.less` sets `[hidden] { display: none; }` but bootstrap.min.css set `[hidden] { display: none !important; }` so we also need the `!important` here to be able to override the default hidden behavior on the sphinx rendered scikit-learn.org. See: https://github.com/scikit-learn/scikit-learn/issues/21755 */display: inline-block !important;position: relative;}#sk-container-id-4 div.sk-text-repr-fallback {display: none;}</style><div id=\"sk-container-id-4\" class=\"sk-top-container\"><div class=\"sk-text-repr-fallback\"><pre>GridSearchCV(cv=5, estimator=RandomForestClassifier(),\n",
       "             param_grid={&#x27;n_estimators&#x27;: array([1, 2, 3, 4, 5, 6, 7, 8, 9])},\n",
       "             verbose=1)</pre><b>In a Jupyter environment, please rerun this cell to show the HTML representation or trust the notebook. <br />On GitHub, the HTML representation is unable to render, please try loading this page with nbviewer.org.</b></div><div class=\"sk-container\" hidden><div class=\"sk-item sk-dashed-wrapped\"><div class=\"sk-label-container\"><div class=\"sk-label sk-toggleable\"><input class=\"sk-toggleable__control sk-hidden--visually\" id=\"sk-estimator-id-10\" type=\"checkbox\" ><label for=\"sk-estimator-id-10\" class=\"sk-toggleable__label sk-toggleable__label-arrow\">GridSearchCV</label><div class=\"sk-toggleable__content\"><pre>GridSearchCV(cv=5, estimator=RandomForestClassifier(),\n",
       "             param_grid={&#x27;n_estimators&#x27;: array([1, 2, 3, 4, 5, 6, 7, 8, 9])},\n",
       "             verbose=1)</pre></div></div></div><div class=\"sk-parallel\"><div class=\"sk-parallel-item\"><div class=\"sk-item\"><div class=\"sk-label-container\"><div class=\"sk-label sk-toggleable\"><input class=\"sk-toggleable__control sk-hidden--visually\" id=\"sk-estimator-id-11\" type=\"checkbox\" ><label for=\"sk-estimator-id-11\" class=\"sk-toggleable__label sk-toggleable__label-arrow\">estimator: RandomForestClassifier</label><div class=\"sk-toggleable__content\"><pre>RandomForestClassifier()</pre></div></div></div><div class=\"sk-serial\"><div class=\"sk-item\"><div class=\"sk-estimator sk-toggleable\"><input class=\"sk-toggleable__control sk-hidden--visually\" id=\"sk-estimator-id-12\" type=\"checkbox\" ><label for=\"sk-estimator-id-12\" class=\"sk-toggleable__label sk-toggleable__label-arrow\">RandomForestClassifier</label><div class=\"sk-toggleable__content\"><pre>RandomForestClassifier()</pre></div></div></div></div></div></div></div></div></div></div>"
      ],
      "text/plain": [
       "GridSearchCV(cv=5, estimator=RandomForestClassifier(),\n",
       "             param_grid={'n_estimators': array([1, 2, 3, 4, 5, 6, 7, 8, 9])},\n",
       "             verbose=1)"
      ]
     },
     "execution_count": 43,
     "metadata": {},
     "output_type": "execute_result"
    }
   ],
   "source": [
    "from sklearn.model_selection import GridSearchCV\n",
    "grid_search = GridSearchCV(estimator=RandomForestClassifier(), param_grid={'n_estimators':np.arange(1,10)}, cv=5,verbose=1)\n",
    "grid_search.fit(X_train, y_train)"
   ]
  },
  {
   "cell_type": "code",
   "execution_count": 44,
   "metadata": {},
   "outputs": [
    {
     "name": "stdout",
     "output_type": "stream",
     "text": [
      "Best Parameters: {'n_estimators': 8}\n"
     ]
    }
   ],
   "source": [
    "# Laat zien de beste \"parameters\"\n",
    "print(\"Best Parameters:\", grid_search.best_params_)\n",
    "\n",
    "# Gebruik de beste \"estimator\" om resultaten te voorspellen\n",
    "best_random = grid_search.best_estimator_"
   ]
  },
  {
   "cell_type": "code",
   "execution_count": 45,
   "metadata": {},
   "outputs": [
    {
     "data": {
      "text/html": [
       "<div>\n",
       "<style scoped>\n",
       "    .dataframe tbody tr th:only-of-type {\n",
       "        vertical-align: middle;\n",
       "    }\n",
       "\n",
       "    .dataframe tbody tr th {\n",
       "        vertical-align: top;\n",
       "    }\n",
       "\n",
       "    .dataframe thead th {\n",
       "        text-align: right;\n",
       "    }\n",
       "</style>\n",
       "<table border=\"1\" class=\"dataframe\">\n",
       "  <thead>\n",
       "    <tr style=\"text-align: right;\">\n",
       "      <th></th>\n",
       "      <th>Geen Diabetes(Predicted)</th>\n",
       "      <th>Diabetes(Predicted)</th>\n",
       "    </tr>\n",
       "  </thead>\n",
       "  <tbody>\n",
       "    <tr>\n",
       "      <th>Geen Diabetes(Echt)</th>\n",
       "      <td>37370</td>\n",
       "      <td>615</td>\n",
       "    </tr>\n",
       "    <tr>\n",
       "      <th>Diabetes(Echt)</th>\n",
       "      <td>4487</td>\n",
       "      <td>515</td>\n",
       "    </tr>\n",
       "  </tbody>\n",
       "</table>\n",
       "</div>"
      ],
      "text/plain": [
       "                     Geen Diabetes(Predicted)  Diabetes(Predicted)\n",
       "Geen Diabetes(Echt)                     37370                  615\n",
       "Diabetes(Echt)                           4487                  515"
      ]
     },
     "execution_count": 45,
     "metadata": {},
     "output_type": "execute_result"
    }
   ],
   "source": [
    "y_test_pred = best_random.predict(X_test)\n",
    "\n",
    "from sklearn.metrics import confusion_matrix\n",
    "\n",
    "conf_matrix3 = confusion_matrix(y_test, y_test_pred) #Creert een \"confusion matrix\"\n",
    "conf_matrix3 = pd.DataFrame(conf_matrix, index=['Geen Diabetes(Echt)', 'Diabetes(Echt)'], columns = ['Geen Diabetes(Predicted)', 'Diabetes(Predicted)'])\n",
    "conf_matrix3"
   ]
  },
  {
   "cell_type": "markdown",
   "metadata": {},
   "source": [
    "### Random Forest model evalueren"
   ]
  },
  {
   "cell_type": "code",
   "execution_count": 46,
   "metadata": {},
   "outputs": [
    {
     "data": {
      "image/png": "[encoded data removed]",
      "text/plain": [
       "<Figure size 800x600 with 2 Axes>"
      ]
     },
     "metadata": {},
     "output_type": "display_data"
    }
   ],
   "source": [
    "# Maak een heatmap\n",
    "plt.figure(figsize=(8, 6))\n",
    "heatmap = sns.heatmap(conf_matrix3, annot=True, fmt=\"d\", cmap=\"Blues\")\n",
    "heatmap.set_title('Confusion Matrix (Random Forest) Heatmap')\n",
    "plt.xlabel('Predicted label')\n",
    "plt.ylabel('True label')\n",
    "plt.show()"
   ]
  },
  {
   "cell_type": "markdown",
   "metadata": {},
   "source": [
    "#### Accuracy"
   ]
  },
  {
   "cell_type": "markdown",
   "metadata": {},
   "source": [
    "Het totaal aantal wat goed voorspelt is.\n",
    "\n",
    "Accuracy = (TP+TN) / (TP+TN+TP+FN)"
   ]
  },
  {
   "cell_type": "code",
   "execution_count": 47,
   "metadata": {},
   "outputs": [
    {
     "name": "stdout",
     "output_type": "stream",
     "text": [
      "Accuracy= 0.8611673296578035\n"
     ]
    }
   ],
   "source": [
    "from sklearn.metrics import accuracy_score\n",
    "\n",
    "print(\"Accuracy=\", accuracy_score(y_test, y_test_pred))"
   ]
  },
  {
   "cell_type": "markdown",
   "metadata": {},
   "source": [
    "#### Precision"
   ]
  },
  {
   "cell_type": "markdown",
   "metadata": {},
   "source": [
    "Het aantal voorspelde en werkelijke positieven op het totaal aantal voorspelde postitieven.\n",
    "\n",
    "Precision = TP/(TP + FP)"
   ]
  },
  {
   "cell_type": "code",
   "execution_count": 48,
   "metadata": {},
   "outputs": [
    {
     "name": "stdout",
     "output_type": "stream",
     "text": [
      "Precision = 0.3267575322812052\n"
     ]
    }
   ],
   "source": [
    "from sklearn.metrics import precision_score\n",
    "print(\"Precision =\", precision_score(y_test, y_test_pred, pos_label=2))"
   ]
  },
  {
   "cell_type": "markdown",
   "metadata": {},
   "source": [
    "#### Recall"
   ]
  },
  {
   "cell_type": "markdown",
   "metadata": {},
   "source": [
    "Het aantal voorspelde en werkelijke positieven op het totaal aantal werkelijke positieven.\n",
    "\n",
    "Recall = TP/(TP+FN)"
   ]
  },
  {
   "cell_type": "code",
   "execution_count": 49,
   "metadata": {},
   "outputs": [
    {
     "name": "stdout",
     "output_type": "stream",
     "text": [
      "Recall = 0.18212714914034386\n"
     ]
    }
   ],
   "source": [
    "from sklearn.metrics import recall_score\n",
    "print(\"Recall =\", recall_score(y_test, y_test_pred, pos_label=2))"
   ]
  },
  {
   "cell_type": "markdown",
   "metadata": {},
   "source": [
    "## Evaluatie van verschillende modellen"
   ]
  },
  {
   "cell_type": "markdown",
   "metadata": {},
   "source": [
    "### KNN Classifier"
   ]
  },
  {
   "cell_type": "markdown",
   "metadata": {},
   "source": [
    "- Accuracy = 88%\n",
    "- Precision = 46%\n",
    "- Recall = 10%"
   ]
  },
  {
   "cell_type": "markdown",
   "metadata": {},
   "source": [
    "- Accuracy: Accuracy geeft aan welk percentage van de voorspellingen correct is.\n",
    "Voor onze KNN Classifier model is gelijk aan 88%, wat betekent dat 88% van de voorspellende resultaten correct zijn.\n",
    "\n",
    "- Precision: De precision meet het percentage van de positieve voorspellingen (mensen met diabetes) dat daadwerkelijk correct is.\n",
    "Een precision van 46% betekent dat alle mensen die als mensen met diabetes zijn gemarkeerd, slechts 46% daadwerkelijk correct is. Dus 54% van de mensen die als mensen met diabetes zijn gemarkeerd, hebben ze in de werkelijkheid geen diabetes.\n",
    "\n",
    "- Recall: Recall meet het percentage van de daadwerkelijke positieve exemplaren (mensen met diabetes) dat correct zijn geïdentificeerd door het model. \n",
    "Een recall van 10% betekent dat slechts 10% van alle werkelijke positieve gevallen correct is voorspeld door het model. Dus alleen 10% van de mensen met diabetes worden correct geïdentificeerd door het KNN Classifier model."
   ]
  },
  {
   "cell_type": "markdown",
   "metadata": {},
   "source": [
    "### Logistic Regression"
   ]
  },
  {
   "cell_type": "markdown",
   "metadata": {},
   "source": [
    "- Accuracy = 86%\n",
    "- Precision = 29%\n",
    "- Recall = 14%"
   ]
  },
  {
   "cell_type": "markdown",
   "metadata": {},
   "source": [
    "- Accuracy: Accuracy geeft aan welk percentage van de voorspellingen correct is.\n",
    "Voor onze Logistic Regression model is gelijk aan 86%, wat betekent dat 86% van de voorspellende resultaten correct zijn.\n",
    "\n",
    "- Precision: De precision meet het percentage van de positieve voorspellingen (mensen met diabetes) dat daadwerkelijk correct is.\n",
    "Een precision van 29% betekent dat alle mensen die als mensen met diabetes zijn gemarkeerd, slechts 29% daadwerkelijk correct is. Dus 71% van de mensen die als mensen met diabetes zijn gemarkeerd, hebben ze in de werkelijkheid geen diabetes.\n",
    "\n",
    "- Recall: Recall meet het percentage van de daadwerkelijke positieve exemplaren (mensen met diabetes) dat correct zijn geïdentificeerd door het model. \n",
    "Een recall van 14% betekent dat slechts 14% van alle werkelijke positieve gevallen correct is voorspeld door het model. Dus alleen 14% van de mensen met diabetes worden correct geïdentificeerd door het Logistic Regression model."
   ]
  },
  {
   "cell_type": "markdown",
   "metadata": {},
   "source": [
    "### Random Forest"
   ]
  },
  {
   "cell_type": "markdown",
   "metadata": {},
   "source": [
    "- Accuracy = 88%\n",
    "- Precision = 52%\n",
    "- Recall = 10%"
   ]
  },
  {
   "cell_type": "markdown",
   "metadata": {},
   "source": [
    "- Accuracy: Accuracy geeft aan welk percentage van de voorspellingen correct is.\n",
    "Voor onze Random Forest Classfier model is gelijk aan 88%, wat betekent dat 86% van de voorspellende resultaten correct zijn.\n",
    "\n",
    "- Precision: De precision meet het percentage van de positieve voorspellingen (mensen met diabetes) dat daadwerkelijk correct is.\n",
    "Een precision van 52% betekent dat alle mensen die als mensen met diabetes zijn gemarkeerd, slechts 52% daadwerkelijk correct is. Dus 48% van de mensen die als mensen met diabetes zijn gemarkeerd, hebben ze in de werkelijkheid geen diabetes.\n",
    "\n",
    "- Recall: Recall meet het percentage van de daadwerkelijke positieve exemplaren (mensen met diabetes) dat correct zijn geïdentificeerd door het model. \n",
    "Een recall van 10% betekent dat slechts 10% van alle werkelijke positieve gevallen correct is voorspeld door het model. Dus alleen 10% van de mensen met diabetes worden correct geïdentificeerd door het Random Forest model."
   ]
  },
  {
   "cell_type": "markdown",
   "metadata": {},
   "source": [
    "## Conclusies"
   ]
  },
  {
   "cell_type": "markdown",
   "metadata": {},
   "source": [
    "- Alle modellen hebben een goeie accuracy. Dit komt omdat alle modellen een groot aantal van de mensen zonder diabetes kunnen identificeren. Dit zorgt voor een hoge accuracy score."
   ]
  },
  {
   "cell_type": "markdown",
   "metadata": {},
   "source": [
    "- De KNN Classifier en de Random Forest modellen hebben ongeveer precision score van 50%. Dit betekent dat deze modellen ongeveer de half van de mensen zonder diabetes worden voorspeld met diabetes. Terwijl de Logistic Regression model een precison score van 29%. Dit betekent dat deze model ongeveer de 70% van de mensen zonder diabetes  voorspeld met diabetes."
   ]
  },
  {
   "cell_type": "markdown",
   "metadata": {},
   "source": [
    "- Alle modellen hebben ongeveer recall score van 10%. Dit betekent dat alle modellen slechts 10% van de mensen met diabetes, worden correct geidentificeerd. Dus de modellen kunnen niet goed alle mensen met diabetes identificeren."
   ]
  }
 ],
 "metadata": {
  "kernelspec": {
   "display_name": "Python 3",
   "language": "python",
   "name": "python3"
  },
  "language_info": {
   "codemirror_mode": {
    "name": "ipython",
    "version": 3
   },
   "file_extension": ".py",
   "mimetype": "text/x-python",
   "name": "python",
   "nbconvert_exporter": "python",
   "pygments_lexer": "ipython3",
   "version": "3.11.2"
  }
 },
 "nbformat": 4,
 "nbformat_minor": 2
}
